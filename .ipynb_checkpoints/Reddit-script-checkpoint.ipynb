{
 "cells": [
  {
   "cell_type": "markdown",
   "metadata": {},
   "source": [
    "# Toward Predicting Developer/Publisher success \n",
    "## Data collection, cleaning, and analysis. "
   ]
  },
  {
   "cell_type": "code",
   "execution_count": 2,
   "metadata": {},
   "outputs": [],
   "source": [
    "import praw\n",
    "import requests\n",
    "import pandas as pd\n",
    "import datetime as dt\n",
    "import csv\n",
    "from bs4 import BeautifulSoup\n",
    "## installed lxml.html using \"...$ pip install lxml\", then import into python3 env\n",
    "import lxml.html as lh\n",
    "import pprint"
   ]
  },
  {
   "cell_type": "markdown",
   "metadata": {},
   "source": [
    "# Making a Reddit App for Authorization\n",
    "\n",
    "1. Make a Reddit account and log in\n",
    "2. Go to https://www.reddit.com/prefs/apps/\n",
    "3. Create an App\n",
    "4. Fill out the create application form \n",
    "  1. Choose the \"script\" option\n",
    "  2. For our class, a redirect uri of http://soic.indiana.edu will suffice\n",
    "5. After you've created the app, you'll see a window with your app's settings\n",
    "  1. Get the client id - it's under your app's name\n",
    "  2. Get the client secret\n",
    "  \n"
   ]
  },
  {
   "cell_type": "markdown",
   "metadata": {},
   "source": [
    "# Creating PRAW Reddit api object\n",
    "### The parameters in the variables below are as follows: \n",
    "\n",
    "- client_id='PERSONAL_USE_SCRIPT_14_CHARS', \\\n",
    "- client_secret='SECRET_KEY_27_CHARS ', \\\n",
    "- user_agent='YOUR_APP_NAME', \\\n",
    "- username='YOUR_REDDIT_USER_NAME', \\\n",
    "- password='YOUR_REDDIT_LOGIN_PASSWORD')"
   ]
  },
  {
   "cell_type": "code",
   "execution_count": 3,
   "metadata": {},
   "outputs": [],
   "source": [
    "client_id = \"WhkpjLo6_5t5zQ\" # insert your client ID here\n",
    "client_secret = \"nZhrnOnulzDse-k6AujCKkGPyh4\" # client secret here\n",
    "user_agent = \"IU-SMM-2\" # a string identifying your app to agents; it is courteous practice to provide your contact info\n",
    "# username = \"psuaggie\"\n",
    "\n",
    "r = praw.Reddit(client_id=client_id, client_secret=client_secret, user_agent=user_agent)"
   ]
  },
  {
   "cell_type": "markdown",
   "metadata": {},
   "source": [
    "# Analysis Notes\n",
    "- The end goal of the structured data will be to have a tabular dataset of aggregated sentiment for studios and titles. For instance, if Bethesda makes fallout, I would capture comments with either 'Bethesda' or 'Fall Out' and rate the sentiment of those comments, along with the other features, then aggregate by the date. \n",
    "\n",
    "## Anticipated problems/obstacles\n",
    "- how do I treat submissions and comments - the same? does it matter if they're related? \n",
    "- can we obtain other information about a given comment (e.g. score or controversial-ity)\n",
    "\n",
    "## Needed Features: \n",
    "1) Comment body\n",
    "- needs to be filtered on particular keywords (e.g. studio name, title name)\n",
    "2) Date\n",
    "3) Score\n",
    "4) Platform.\n",
    "- Maybe there's some difference in how users of different platforms feel about a given title\n",
    "\n",
    "## To do: \n",
    "- [ ] create list to iterate through: controversial, gilded, hot, new, rising, top\n",
    "- [ ] grab top 50 comments for the year for each subreddit, including ID, title, and body\n",
    "- [ ] what variables are available - use vars and pprint. "
   ]
  },
  {
   "cell_type": "markdown",
   "metadata": {},
   "source": [
    "## Creating subreddit objects\n",
    "- Nintendo \n",
    "- Playstation\n",
    "- X Box"
   ]
  },
  {
   "cell_type": "code",
   "execution_count": 4,
   "metadata": {},
   "outputs": [],
   "source": [
    "subreddit_nintendo = r.subreddit(\"nintendo\")\n",
    "subreddit_ps4 = r.subreddit(\"ps4\")\n",
    "subreddit_xbox = r.subreddit(\"xboxone\")"
   ]
  },
  {
   "cell_type": "markdown",
   "metadata": {},
   "source": [
    "I want to check to see what variables are available in each comment and submission. \n",
    "First I need a submission ID: "
   ]
  },
  {
   "cell_type": "code",
   "execution_count": 5,
   "metadata": {},
   "outputs": [
    {
     "name": "stdout",
     "output_type": "stream",
     "text": [
      "r/Nintendo are looking for more moderators!\n",
      "51\n",
      "9nu4wn\n",
      "https://www.reddit.com/r/nintendo/comments/9nu4wn/rnintendo_are_looking_for_more_moderators/\n"
     ]
    }
   ],
   "source": [
    "for submission in subreddit_nintendo.hot(limit=1):\n",
    "    print(submission.title)\n",
    "    print(submission.score) \n",
    "    print(submission.id)    \n",
    "    print(submission.url)"
   ]
  },
  {
   "cell_type": "code",
   "execution_count": 6,
   "metadata": {},
   "outputs": [
    {
     "name": "stdout",
     "output_type": "stream",
     "text": [
      "r/Nintendo are looking for more moderators!\n",
      "{'_comments': <praw.models.comment_forest.CommentForest object at 0xb4a584ac>,\n",
      " '_comments_by_id': {'t1_e7oyz0m': Comment(id='e7oyz0m'),\n",
      "                     't1_e7p0s7c': Comment(id='e7p0s7c'),\n",
      "                     't1_e7p1edq': Comment(id='e7p1edq'),\n",
      "                     't1_e7p3d4o': Comment(id='e7p3d4o'),\n",
      "                     't1_e7p3kly': Comment(id='e7p3kly'),\n",
      "                     't1_e7p3s99': Comment(id='e7p3s99'),\n",
      "                     't1_e7p48av': Comment(id='e7p48av'),\n",
      "                     't1_e7p6480': Comment(id='e7p6480'),\n",
      "                     't1_e7p6jy2': Comment(id='e7p6jy2'),\n",
      "                     't1_e7p6rmd': Comment(id='e7p6rmd'),\n",
      "                     't1_e7p8hm8': Comment(id='e7p8hm8'),\n",
      "                     't1_e7pbza1': Comment(id='e7pbza1'),\n",
      "                     't1_e7pffgs': Comment(id='e7pffgs'),\n",
      "                     't1_e7pk2jc': Comment(id='e7pk2jc'),\n",
      "                     't1_e7pk6ne': Comment(id='e7pk6ne'),\n",
      "                     't1_e7pmuj2': Comment(id='e7pmuj2'),\n",
      "                     't1_e7pot5g': Comment(id='e7pot5g'),\n",
      "                     't1_e7pyyrm': Comment(id='e7pyyrm'),\n",
      "                     't1_e7pz0hf': Comment(id='e7pz0hf'),\n",
      "                     't1_e7q1fzw': Comment(id='e7q1fzw'),\n",
      "                     't1_e7r5qsk': Comment(id='e7r5qsk'),\n",
      "                     't1_e7rlcu5': Comment(id='e7rlcu5'),\n",
      "                     't1_e7ru1yc': Comment(id='e7ru1yc'),\n",
      "                     't1_e7t3xk4': Comment(id='e7t3xk4'),\n",
      "                     't1_e7ublua': Comment(id='e7ublua'),\n",
      "                     't1_e7v96ct': Comment(id='e7v96ct'),\n",
      "                     't1_e7x8k51': Comment(id='e7x8k51'),\n",
      "                     't1_e7x8mdl': Comment(id='e7x8mdl'),\n",
      "                     't1_e7xkxps': Comment(id='e7xkxps'),\n",
      "                     't1_e7xscad': Comment(id='e7xscad'),\n",
      "                     't1_e7xvior': Comment(id='e7xvior'),\n",
      "                     't1_e7zmtdi': Comment(id='e7zmtdi')},\n",
      " '_fetched': True,\n",
      " '_flair': None,\n",
      " '_info_params': {},\n",
      " '_mod': None,\n",
      " '_reddit': <praw.reddit.Reddit object at 0xa91b41ec>,\n",
      " 'approved_at_utc': None,\n",
      " 'approved_by': None,\n",
      " 'archived': False,\n",
      " 'author': Redditor(name='KetchupTheDuck'),\n",
      " 'author_flair_background_color': '',\n",
      " 'author_flair_css_class': 'celeste',\n",
      " 'author_flair_richtext': [],\n",
      " 'author_flair_template_id': None,\n",
      " 'author_flair_text': '',\n",
      " 'author_flair_text_color': 'dark',\n",
      " 'author_flair_type': 'text',\n",
      " 'author_fullname': 't2_4ugknlu',\n",
      " 'banned_at_utc': None,\n",
      " 'banned_by': None,\n",
      " 'can_gild': False,\n",
      " 'can_mod_post': False,\n",
      " 'category': None,\n",
      " 'clicked': False,\n",
      " 'comment_limit': 2048,\n",
      " 'comment_sort': 'best',\n",
      " 'content_categories': None,\n",
      " 'contest_mode': False,\n",
      " 'created': 1539469688.0,\n",
      " 'created_utc': 1539440888.0,\n",
      " 'distinguished': 'moderator',\n",
      " 'domain': 'self.nintendo',\n",
      " 'downs': 0,\n",
      " 'edited': False,\n",
      " 'gilded': 0,\n",
      " 'gildings': {'gid_1': 0, 'gid_2': 0, 'gid_3': 0},\n",
      " 'hidden': False,\n",
      " 'hide_score': False,\n",
      " 'id': '9nu4wn',\n",
      " 'is_crosspostable': False,\n",
      " 'is_meta': False,\n",
      " 'is_original_content': False,\n",
      " 'is_reddit_media_domain': False,\n",
      " 'is_robot_indexable': True,\n",
      " 'is_self': True,\n",
      " 'is_video': False,\n",
      " 'likes': None,\n",
      " 'link_flair_background_color': '',\n",
      " 'link_flair_css_class': 'announcement',\n",
      " 'link_flair_richtext': [{'e': 'text', 't': 'Announcement'}],\n",
      " 'link_flair_template_id': '1093db78-eb46-11e3-90d0-12313d192c63',\n",
      " 'link_flair_text': 'Announcement',\n",
      " 'link_flair_text_color': 'dark',\n",
      " 'link_flair_type': 'richtext',\n",
      " 'locked': False,\n",
      " 'media': None,\n",
      " 'media_embed': {},\n",
      " 'media_only': False,\n",
      " 'mod_note': None,\n",
      " 'mod_reason_by': None,\n",
      " 'mod_reason_title': None,\n",
      " 'mod_reports': [],\n",
      " 'name': 't3_9nu4wn',\n",
      " 'no_follow': False,\n",
      " 'num_comments': 30,\n",
      " 'num_crossposts': 0,\n",
      " 'num_reports': None,\n",
      " 'over_18': False,\n",
      " 'parent_whitelist_status': 'all_ads',\n",
      " 'permalink': '/r/nintendo/comments/9nu4wn/rnintendo_are_looking_for_more_moderators/',\n",
      " 'pinned': False,\n",
      " 'post_hint': 'self',\n",
      " 'preview': {'enabled': False,\n",
      "             'images': [{'id': 'pL5zOdgnrkSWxDgrGvMP_GNmIdgfdUums6AFn1KG85k',\n",
      "                         'resolutions': [{'height': 56,\n",
      "                                          'url': 'https://external-preview.redd.it/bC2YaVb_8t29LpDYvm0ty3mwRLLppnSljTJuR1JlSlg.jpg?width=108&crop=smart&auto=webp&s=86ab65135eb91ce54431579cd743a0364d665ca2',\n",
      "                                          'width': 108},\n",
      "                                         {'height': 113,\n",
      "                                          'url': 'https://external-preview.redd.it/bC2YaVb_8t29LpDYvm0ty3mwRLLppnSljTJuR1JlSlg.jpg?width=216&crop=smart&auto=webp&s=695444612f3b61fc4e4b10847a97d7c6d105deb1',\n",
      "                                          'width': 216},\n",
      "                                         {'height': 168,\n",
      "                                          'url': 'https://external-preview.redd.it/bC2YaVb_8t29LpDYvm0ty3mwRLLppnSljTJuR1JlSlg.jpg?width=320&crop=smart&auto=webp&s=ae7c4f3e45279645fb132f9be69506a6cf71c248',\n",
      "                                          'width': 320},\n",
      "                                         {'height': 336,\n",
      "                                          'url': 'https://external-preview.redd.it/bC2YaVb_8t29LpDYvm0ty3mwRLLppnSljTJuR1JlSlg.jpg?width=640&crop=smart&auto=webp&s=0a51a204a1c7b0a1f8b763fda8b8a3d2923429dc',\n",
      "                                          'width': 640},\n",
      "                                         {'height': 504,\n",
      "                                          'url': 'https://external-preview.redd.it/bC2YaVb_8t29LpDYvm0ty3mwRLLppnSljTJuR1JlSlg.jpg?width=960&crop=smart&auto=webp&s=5acb40b6c6857ed24dd6771f8a1a61ae48144008',\n",
      "                                          'width': 960},\n",
      "                                         {'height': 567,\n",
      "                                          'url': 'https://external-preview.redd.it/bC2YaVb_8t29LpDYvm0ty3mwRLLppnSljTJuR1JlSlg.jpg?width=1080&crop=smart&auto=webp&s=03206aaf06f4d27d31d2c2493c1f298a5d447383',\n",
      "                                          'width': 1080}],\n",
      "                         'source': {'height': 630,\n",
      "                                    'url': 'https://external-preview.redd.it/bC2YaVb_8t29LpDYvm0ty3mwRLLppnSljTJuR1JlSlg.jpg?auto=webp&s=e2fa843620736f23bdc4961c1103363efffd3270',\n",
      "                                    'width': 1200},\n",
      "                         'variants': {}}]},\n",
      " 'pwls': 6,\n",
      " 'quarantine': False,\n",
      " 'removal_reason': None,\n",
      " 'report_reasons': None,\n",
      " 'saved': False,\n",
      " 'score': 46,\n",
      " 'secure_media': None,\n",
      " 'secure_media_embed': {},\n",
      " 'selftext': \"Hey paisanos, we're looking for a few new mods to help out on \"\n",
      "             'r/Nintendo.\\n'\n",
      "             '\\n'\n",
      "             \"We're primarily looking for people who can be familiar with our \"\n",
      "             'rules, answer modmail, and approve or remove submissions. '\n",
      "             'Successful applicants will need to use the toolbox browser '\n",
      "             'extension. There will be other ways to help the community too, '\n",
      "             'but our main priority right now is better, faster, consistent '\n",
      "             'communication with users. Our moderation team is a close group '\n",
      "             \"of friends, and we're also looking for people who can be active \"\n",
      "             'in our Slack both to discuss subreddit decisions and to be on '\n",
      "             'the lookout for fresh, juicy memes.\\n'\n",
      "             '\\n'\n",
      "             \"Previous moderation experience isn't necessary. We are looking \"\n",
      "             'for people across multiple time zones. If you have any other '\n",
      "             'skills you think are worth mentioning let us know!\\n'\n",
      "             '\\n'\n",
      "             \"We're not looking for an essay reply to these questions but we \"\n",
      "             \"are looking for thoughtful answers. We won't dismiss your \"\n",
      "             'application if Urban Champion is your favourite Nintendo game '\n",
      "             \"but we will if you can't give a sincere, interesting response \"\n",
      "             'less than 500 characters. Same goes for the other questions.\\n'\n",
      "             '\\n'\n",
      "             'Finally, this is a volunteer gig. We do not get paid, we do not '\n",
      "             'have any communication with Nintendo, and we do not have a '\n",
      "             'treasure trove of secret insider information. My reward has been '\n",
      "             'some deep friendships with a diverse team of different '\n",
      "             'backgrounds. In my opinion that is absolutely worth it.\\n'\n",
      "             '\\n'\n",
      "             \"[Please respond to this form if you're \"\n",
      "             'interested.](https://docs.google.com/forms/d/e/1FAIpQLSeKFqXu7X3EfgQISGuFuO1OrrHVxCBa1y4Hu1DCuY-IxjWgAQ/viewform?usp=sf_link) ',\n",
      " 'selftext_html': '<!-- SC_OFF --><div class=\"md\"><p>Hey paisanos, we&#39;re '\n",
      "                  'looking for a few new mods to help out on <a '\n",
      "                  'href=\"/r/Nintendo\">r/Nintendo</a>.</p>\\n'\n",
      "                  '\\n'\n",
      "                  '<p>We&#39;re primarily looking for people who can be '\n",
      "                  'familiar with our rules, answer modmail, and approve or '\n",
      "                  'remove submissions. Successful applicants will need to use '\n",
      "                  'the toolbox browser extension. There will be other ways to '\n",
      "                  'help the community too, but our main priority right now is '\n",
      "                  'better, faster, consistent communication with users. Our '\n",
      "                  'moderation team is a close group of friends, and we&#39;re '\n",
      "                  'also looking for people who can be active in our Slack both '\n",
      "                  'to discuss subreddit decisions and to be on the lookout for '\n",
      "                  'fresh, juicy memes.</p>\\n'\n",
      "                  '\\n'\n",
      "                  '<p>Previous moderation experience isn&#39;t necessary. We '\n",
      "                  'are looking for people across multiple time zones. If you '\n",
      "                  'have any other skills you think are worth mentioning let us '\n",
      "                  'know!</p>\\n'\n",
      "                  '\\n'\n",
      "                  '<p>We&#39;re not looking for an essay reply to these '\n",
      "                  'questions but we are looking for thoughtful answers. We '\n",
      "                  'won&#39;t dismiss your application if Urban Champion is '\n",
      "                  'your favourite Nintendo game but we will if you can&#39;t '\n",
      "                  'give a sincere, interesting response less than 500 '\n",
      "                  'characters. Same goes for the other questions.</p>\\n'\n",
      "                  '\\n'\n",
      "                  '<p>Finally, this is a volunteer gig. We do not get paid, we '\n",
      "                  'do not have any communication with Nintendo, and we do not '\n",
      "                  'have a treasure trove of secret insider information. My '\n",
      "                  'reward has been some deep friendships with a diverse team '\n",
      "                  'of different backgrounds. In my opinion that is absolutely '\n",
      "                  'worth it.</p>\\n'\n",
      "                  '\\n'\n",
      "                  '<p><a '\n",
      "                  'href=\"https://docs.google.com/forms/d/e/1FAIpQLSeKFqXu7X3EfgQISGuFuO1OrrHVxCBa1y4Hu1DCuY-IxjWgAQ/viewform?usp=sf_link\">Please '\n",
      "                  'respond to this form if you&#39;re interested.</a> </p>\\n'\n",
      "                  '</div><!-- SC_ON -->',\n",
      " 'send_replies': True,\n",
      " 'spoiler': False,\n",
      " 'stickied': True,\n",
      " 'subreddit': Subreddit(display_name='nintendo'),\n",
      " 'subreddit_id': 't5_2qhnk',\n",
      " 'subreddit_name_prefixed': 'r/nintendo',\n",
      " 'subreddit_subscribers': 724915,\n",
      " 'subreddit_type': 'public',\n",
      " 'suggested_sort': None,\n",
      " 'thumbnail': 'self',\n",
      " 'thumbnail_height': None,\n",
      " 'thumbnail_width': None,\n",
      " 'title': 'r/Nintendo are looking for more moderators!',\n",
      " 'ups': 46,\n",
      " 'upvote_ratio': 0.76,\n",
      " 'url': 'https://www.reddit.com/r/nintendo/comments/9nu4wn/rnintendo_are_looking_for_more_moderators/',\n",
      " 'user_reports': [],\n",
      " 'view_count': None,\n",
      " 'visited': False,\n",
      " 'whitelist_status': 'all_ads',\n",
      " 'wls': 6}\n"
     ]
    }
   ],
   "source": [
    "# Take the submission ID: 9nu4wn and pass it into a new submission variable\n",
    "submission = r.submission(id='9nu4wn')\n",
    "print(submission.title) # to make it non-lazy\n",
    "pprint.pprint(vars(submission))"
   ]
  },
  {
   "cell_type": "markdown",
   "metadata": {},
   "source": [
    "The variables of interest include \n",
    "- ```created``` which gives us the date the submission was created. \n",
    "- ```ups```\n",
    "- ```downs```\n",
    "- ```comments``` which is a comment forest\n",
    "- ```selftext``` this is the body of the text\n",
    "- ```upvote_ratio```\n",
    "\n",
    "Now I can pass those params into an iterator and pull in top submissions for each subreddit for the year.  \n",
    "Before I do that, since reddit typically has a limit of 1000 items returned (not sure if this is an API call), I'll want to figure out how to save each call to an output file, then come back to it later. This way I can issue multiple calls and get the data I need. "
   ]
  },
  {
   "cell_type": "markdown",
   "metadata": {},
   "source": [
    "Get most recent comments and scores."
   ]
  },
  {
   "cell_type": "code",
   "execution_count": 9,
   "metadata": {},
   "outputs": [
    {
     "name": "stdout",
     "output_type": "stream",
     "text": [
      "[[\"Red Dead Redemption 2 - If you turn off the mini-map, NPC's dialogue will change - giving you directions involving routes and landmarks\", 1539067494.0, 42231, 0, '', 0.9], ['[Image] The Last of Us Part II Ellie Theme overlaps the menu 😍', 1538119662.0, 21802, 0, '', 0.88], ['[Image] Say what you will about Ubisoft, but this is pretty cool of them (regarding TellTale layoffs)', 1537605361.0, 17764, 0, '', 0.9], ['Red Dead Redemption 2 Main Campaign is around 65 hours long', 1539601854.0, 17197, 0, '', 0.92], ['Can we stop pretending that digital downloads are worth the same amount of money as physical copies?', 1539723773.0, 15978, 0, 'I really have never understood why online purchases of games are often the same price or more expensive than physical copies of the same game. ', 0.85], ['[Image] Sony please integrate all these into one app x-post from r/gaming', 1537212408.0, 14740, 0, '', 0.91], [\"[Image]Sharks in Assassin's Creed Odyssey will actually eat bodies floating on the surface\", 1538239264.0, 14614, 0, '', 0.93], ['[Image][Spider-Man] Photoshopped my screenshot into a poster. Happy with how it turned out.', 1537479542.0, 13879, 0, '', 0.9], [\"If you kill a civilian in Red Dead Redemption 2, it's possible their family members will hunt you down throughout the game\", 1538363214.0, 13689, 0, '', 0.93], ['Red Dead Redemption 2 will have around 200 species of animals.', 1537826618.0, 12863, 0, '', 0.93]]\n"
     ]
    }
   ],
   "source": [
    "# We'll start out with the top 100 submissions over the last month in the 'ps4' subreddit, \n",
    "# then save it to a file for later evaluation\n",
    "ps4_top_submissions = []\n",
    "for s in subreddit_ps4.top(limit=100, time_filter=\"month\"):\n",
    "    ps4_top_submissions.append([s.title, s.created, s.ups, s.downs, s.selftext, s.upvote_ratio])\n",
    "    \n",
    "print(ps4_top_submissions[0:10])"
   ]
  },
  {
   "cell_type": "code",
   "execution_count": 16,
   "metadata": {},
   "outputs": [],
   "source": [
    "comments_ps4 = []\n",
    "comments_xbox = []\n",
    "comments_nintendo = []\n",
    "\n",
    "for c in subreddit_nintendo.comments(limit=100):\n",
    "    comments_nintendo.append((c.body, c.score, c.ups, c.downs))\n",
    "    \n",
    "for c in subreddit_xbox.comments(limit=100):\n",
    "    comments_xboxone.append((c.body, c.score, c.ups, c.downs))    \n",
    "\n",
    "for c in subreddit_ps4.comments(limit=100):\n",
    "    comments_ps4.append((c.body, c.score, c.ups, c.downs))"
   ]
  },
  {
   "cell_type": "code",
   "execution_count": 21,
   "metadata": {
    "scrolled": false
   },
   "outputs": [
    {
     "data": {
      "text/plain": [
       "[('I jokingly tweeted Xbox asking for a birthday present and they delivered!',\n",
       "  20861,\n",
       "  20861,\n",
       "  0),\n",
       " (\"Red Dead Redemption 2 - If you turn off the mini-map, NPC's dialogue will change - giving you directions involving routes and landmarks\",\n",
       "  14648,\n",
       "  14648,\n",
       "  0),\n",
       " ('Driving around in Forza Horizon 4 & I come across the Windows XP Desktop',\n",
       "  11415,\n",
       "  11415,\n",
       "  0),\n",
       " ('Red Dead Redemption 2 will feature full first person mode at launch',\n",
       "  8550,\n",
       "  8550,\n",
       "  0),\n",
       " ('Would anybody else like the option to remove these items from the home screen?',\n",
       "  9053,\n",
       "  9053,\n",
       "  0),\n",
       " ('Footage Of A Harry Potter RPG Has Apparently Leaked', 7774, 7774, 0),\n",
       " ('Forza Horizon 4', 7492, 7492, 0),\n",
       " ('Can we take a moment to really appreciate the people at Microsoft working hard on backwards compatibility?',\n",
       "  7195,\n",
       "  7195,\n",
       "  0),\n",
       " ('Buy an elite controller they said, it will be fun they said... 5th or 6th time this has happened to my lb buttons. I can’t be the only one. It’s so frustrating.',\n",
       "  6601,\n",
       "  6601,\n",
       "  0),\n",
       " ('The Phantom Black controller released today.', 6562, 6562, 0)]"
      ]
     },
     "execution_count": 21,
     "metadata": {},
     "output_type": "execute_result"
    }
   ],
   "source": [
    "ps4_top_submissions = []\n",
    "xbox_top_submissions = []\n",
    "nintendo_top_submissions = []\n",
    "\n",
    "for s in subreddit_ps4.top(limit=100, time_filter=\"month\"):\n",
    "    ps4_top_submissions.append((s.title, s.score, s.ups, s.downs))\n",
    "\n",
    "for s in subreddit_xbox.top(limit=100, time_filter=\"month\"):\n",
    "    xbox_top_submissions.append((s.title, s.score, s.ups, s.downs))\n",
    "\n",
    "for s in subreddit_nintendo.top(limit=100, time_filter=\"month\"):\n",
    "    nintendo_top_submissions.append((s.title, s.score, s.ups, s.downs))\n",
    "\n",
    "ps4_top_submissions[0:10]\n",
    "nintendo_top_submissions[0:10]\n",
    "xbox_top_submissions[0:10]\n",
    "\n",
    "\n",
    "#for s in subreddit_democrat.top(limit=10, time_filter=\"week\"):\n",
    "#    d_top_submissions.append((s.title, s.score))\n",
    "#for submission in subreddit_nintendo:\n",
    "#    print(submission.title)"
   ]
  },
  {
   "cell_type": "code",
   "execution_count": 22,
   "metadata": {
    "scrolled": true
   },
   "outputs": [
    {
     "name": "stdout",
     "output_type": "stream",
     "text": [
      "[(\"Yeah, the podcast doesn't count since I'm too lazy to watch these videos and I'd rather just read it, because I read faster than I listen, I zone out less, and I can just skim it over instead of viewing the full thing. It could be included with Switch Online perhaps.\", 1, 1, 0), ('=IF(\"Current Year\", \"No Mother 3\", 0)', 1, 1, 0), ('\"marketing\" lol no, tons of gaming sites would cover it and they wouldnt have to pay anything', 1, 1, 0), (\"When held in a sideways formation having your hands close together isn't nearly as much of an issue as having to reach all the buttons on the Joycon in an upright position with nothing but a thumb. I think the current setup is the optimal formation for both modes.\", 1, 1, 0), (\"Testing, quality assurance and marketing that could all go to products that are going to make them more money. There's opportunity cost. \", 1, 1, 0), (\"Because the sides aren't interchangeable i wish the left one was like that, at least then you'd have one good controller\", 1, 1, 0), ('lol I ment to say *Something* like this. Currently when using them as controllers by themselves (I.E. 2 player Mario Kart) your fingers are too close together.', 1, 1, 0), ('That looks horrendous to use. Getting to the right stick would be absolutely uncomfortable and atrocious.', 1, 1, 0), ('this makes things too far apart and very uncomfortable to hold\\n', 1, 1, 0), ('I personally never found it to be a big deal.', 1, 1, 0)]\n",
      "**************************************************\n",
      "[('iirc the dlc and expansions are actually part of the game, not installed separately', 1, 1, 0), (\"It's the best realistic-ish battle Royale on ps4. Now if it's worth it all depends how much time you end up putting into the game\", 1, 1, 0), ('So cool! You have an outstanding talent and the acknowledgement is well deserved.', 1, 1, 0), ('HAHA this is why I love this sub. I deleted that email instantly. Time to dig it out! It is a bummer I already spent $24 on VR games this week, however.', 1, 1, 0), (\"Mostly I'd agree, but the hyperbole at the end kinda proves it's sarcastic. No one actually believes if you missed out on a previous game that you wouldn't enjoy **ANY** of the new one.\", 1, 1, 0), ('Did it work?', 1, 1, 0), ('Decor', 1, 1, 0), ('The downloads are codes, someone already used them. You basically bought the standard edition ', 1, 1, 0), ('Testers in November/December. Everyone else early next year.', 1, 1, 0), ('I have enough space ', 1, 1, 0)]\n",
      "**************************************************\n"
     ]
    },
    {
     "ename": "NameError",
     "evalue": "name 'comments_xbox' is not defined",
     "output_type": "error",
     "traceback": [
      "\u001b[0;31m---------------------------------------------------------------------------\u001b[0m",
      "\u001b[0;31mNameError\u001b[0m                                 Traceback (most recent call last)",
      "\u001b[0;32m<ipython-input-22-0debadac7d4e>\u001b[0m in \u001b[0;36m<module>\u001b[0;34m()\u001b[0m\n\u001b[1;32m      8\u001b[0m \u001b[0;31m##print('*'* 50)\u001b[0m\u001b[0;34m\u001b[0m\u001b[0;34m\u001b[0m\u001b[0m\n\u001b[1;32m      9\u001b[0m \u001b[0;34m\u001b[0m\u001b[0m\n\u001b[0;32m---> 10\u001b[0;31m \u001b[0mprint\u001b[0m\u001b[0;34m(\u001b[0m\u001b[0mcomments_xbox\u001b[0m\u001b[0;34m[\u001b[0m\u001b[0;36m0\u001b[0m\u001b[0;34m:\u001b[0m\u001b[0;36m10\u001b[0m\u001b[0;34m]\u001b[0m\u001b[0;34m)\u001b[0m\u001b[0;34m\u001b[0m\u001b[0m\n\u001b[0m\u001b[1;32m     11\u001b[0m \u001b[0mprint\u001b[0m\u001b[0;34m(\u001b[0m\u001b[0;34m'*'\u001b[0m\u001b[0;34m*\u001b[0m \u001b[0;36m50\u001b[0m\u001b[0;34m)\u001b[0m\u001b[0;34m\u001b[0m\u001b[0m\n\u001b[1;32m     12\u001b[0m \u001b[0;34m\u001b[0m\u001b[0m\n",
      "\u001b[0;31mNameError\u001b[0m: name 'comments_xbox' is not defined"
     ]
    }
   ],
   "source": [
    "print(comments_nintendo[0:10])\n",
    "print('*'* 50)\n",
    "\n",
    "print(comments_ps4[0:10])\n",
    "print('*'* 50)\n",
    "\n",
    "##print(comments_xbox360[0:10])\n",
    "##print('*'* 50)\n",
    "\n",
    "print(comments_xbox[0:10])\n",
    "print('*'* 50)\n",
    "\n",
    "print(comments_wii[0:10])\n"
   ]
  },
  {
   "cell_type": "code",
   "execution_count": 23,
   "metadata": {},
   "outputs": [
    {
     "data": {
      "text/html": [
       "<div>\n",
       "<style scoped>\n",
       "    .dataframe tbody tr th:only-of-type {\n",
       "        vertical-align: middle;\n",
       "    }\n",
       "\n",
       "    .dataframe tbody tr th {\n",
       "        vertical-align: top;\n",
       "    }\n",
       "\n",
       "    .dataframe thead th {\n",
       "        text-align: right;\n",
       "    }\n",
       "</style>\n",
       "<table border=\"1\" class=\"dataframe\">\n",
       "  <thead>\n",
       "    <tr style=\"text-align: right;\">\n",
       "      <th></th>\n",
       "      <th>Comment</th>\n",
       "      <th>Score</th>\n",
       "      <th>Ups</th>\n",
       "      <th>Downs</th>\n",
       "    </tr>\n",
       "  </thead>\n",
       "  <tbody>\n",
       "    <tr>\n",
       "      <th>0</th>\n",
       "      <td>Yeah, the podcast doesn't count since I'm too ...</td>\n",
       "      <td>1</td>\n",
       "      <td>1</td>\n",
       "      <td>0</td>\n",
       "    </tr>\n",
       "    <tr>\n",
       "      <th>1</th>\n",
       "      <td>=IF(\"Current Year\", \"No Mother 3\", 0)</td>\n",
       "      <td>1</td>\n",
       "      <td>1</td>\n",
       "      <td>0</td>\n",
       "    </tr>\n",
       "    <tr>\n",
       "      <th>2</th>\n",
       "      <td>\"marketing\" lol no, tons of gaming sites would...</td>\n",
       "      <td>1</td>\n",
       "      <td>1</td>\n",
       "      <td>0</td>\n",
       "    </tr>\n",
       "    <tr>\n",
       "      <th>3</th>\n",
       "      <td>When held in a sideways formation having your ...</td>\n",
       "      <td>1</td>\n",
       "      <td>1</td>\n",
       "      <td>0</td>\n",
       "    </tr>\n",
       "    <tr>\n",
       "      <th>4</th>\n",
       "      <td>Testing, quality assurance and marketing that ...</td>\n",
       "      <td>1</td>\n",
       "      <td>1</td>\n",
       "      <td>0</td>\n",
       "    </tr>\n",
       "  </tbody>\n",
       "</table>\n",
       "</div>"
      ],
      "text/plain": [
       "                                             Comment  Score  Ups  Downs\n",
       "0  Yeah, the podcast doesn't count since I'm too ...      1    1      0\n",
       "1              =IF(\"Current Year\", \"No Mother 3\", 0)      1    1      0\n",
       "2  \"marketing\" lol no, tons of gaming sites would...      1    1      0\n",
       "3  When held in a sideways formation having your ...      1    1      0\n",
       "4  Testing, quality assurance and marketing that ...      1    1      0"
      ]
     },
     "execution_count": 23,
     "metadata": {},
     "output_type": "execute_result"
    }
   ],
   "source": [
    "nintendo_comments = []\n",
    "for comment in comments_nintendo:\n",
    "    nintendo_comments.append(comment)\n",
    "    \n",
    "nintendo_comments[0:10]\n",
    "nintendo_df = pd.DataFrame(comments_nintendo, columns=(\"Comment\", \"Score\", \"Ups\", \"Downs\"))\n",
    "nintendo_df.sort_values(by='Score', ascending=False)\n",
    "nintendo_df.head()"
   ]
  },
  {
   "cell_type": "markdown",
   "metadata": {},
   "source": [
    "# Getting comments on submissions\n",
    "\n",
    "Getting comments on submissions is a little complicated. With users or entire subreddits, it's simple, because there is a one-to-many correspondence between user/subreddit and the comments it has. However, comments on a submission are organized in a *tree-like structure*; that is, the submission itself may have comments, and those comments may have comments on them, and so on. Because of this, we don't have helpful organizing functions like ``new`` or ``top``. We have to get them all and organize them ourselves. \n",
    "\n",
    "First, let's get the most recent submission of a subreddit and try to get the *top-level comments* on that submission. "
   ]
  },
  {
   "cell_type": "code",
   "execution_count": 7,
   "metadata": {},
   "outputs": [],
   "source": [
    "newssubreddit = r.subreddit(\"news\")\n",
    "\n",
    "submissions = []\n",
    "\n",
    "for submission in newssubreddit.top(limit=5, time_filter=\"week\"):\n",
    "    submissions.append(submission)\n",
    "    \n",
    "s = submissions[0] # Let's work with the first submission"
   ]
  },
  {
   "cell_type": "code",
   "execution_count": 8,
   "metadata": {},
   "outputs": [],
   "source": [
    "comments = []\n",
    "\n",
    "for top_level_comment in s.comments:\n",
    "    comments.append(top_level_comment)"
   ]
  },
  {
   "cell_type": "code",
   "execution_count": 9,
   "metadata": {
    "scrolled": true
   },
   "outputs": [
    {
     "data": {
      "text/plain": [
       "\"Teacher here. Just wanted to chime in and explain why these policies exist, as it was explained to me years ago:\\n\\nThe idea is that if a student can't receive lower than a 50 per marking period, there is never a point where it is impossible for them to pass for the year. Technically, they could not show up for three quarters, pull a 100 in the fourth, and still pass for the year. \\n\\nNow, an optimist would say this is a good thing, as it means the students will always have that opportunity to make a comeback. Particularly in low-income districts that lack parent engagement, the last thing you want is a kid realizing they can't possibly pass for the year and deciding to spend their day on the street instead of wasting it in school. I've seen firsthand students who really only kept coming to class because they still had that chance -- however small -- to pass for the year.\\n\\nThe more pessimistic view is what many have already pointed out in these comments: that it allows schools to keep pushing students through the system without actually teaching them anything, artificially inflating graduation rates and making admin look good. I've also seen this first hand, as well as the fallout when it was discovered by the school board.\\n\\nPersonally speaking, I'm not a fan of giving a student a 50 for doing nothing. I understand there are specific scenarios where a student misses a large amount of work due to crisis or injury, and that should not destroy all of their previous work. However, I think exceptions can be made for those scenarios without being codified as the mandatory grading policy. But, every school I've worked in has had some policy like this, so unfortunately it seems like it's becoming more common.\""
      ]
     },
     "execution_count": 9,
     "metadata": {},
     "output_type": "execute_result"
    }
   ],
   "source": [
    "# Text of the 11th comment\n",
    "comments[0].body"
   ]
  },
  {
   "cell_type": "markdown",
   "metadata": {},
   "source": [
    "Comments can have comments themselves. Here's how extract the children comments of the first comment on the original submission."
   ]
  },
  {
   "cell_type": "code",
   "execution_count": 10,
   "metadata": {},
   "outputs": [],
   "source": [
    "replies = []\n",
    "\n",
    "for reply in comments[0].replies:\n",
    "    replies.append(reply)"
   ]
  },
  {
   "cell_type": "code",
   "execution_count": 11,
   "metadata": {},
   "outputs": [
    {
     "data": {
      "text/plain": [
       "\"For extenuating circumstances and crises, a blank or N/A is sufficient and won't hurt or help a grade. You could always assign an extra credit assignment that takes a lot of effort or allow past work to be made up for half credit. Basically, you can still give students a chance, but they have to bust their ass for a bit and show that they want it. I see way too many students who have been pushed through the system bragging that they do no work and still pass.\""
      ]
     },
     "execution_count": 11,
     "metadata": {},
     "output_type": "execute_result"
    }
   ],
   "source": [
    "replies[0].body"
   ]
  },
  {
   "cell_type": "markdown",
   "metadata": {},
   "source": [
    "PRAW deals with Reddit rate limitations on comments by inserting \"MoreComments\" objects into the comment tree. For example, at the time of me writing this code, the fourth item in replies is a \"MoreComments\" object."
   ]
  },
  {
   "cell_type": "code",
   "execution_count": 12,
   "metadata": {},
   "outputs": [
    {
     "data": {
      "text/plain": [
       "[Comment(id='e6m8zqf'),\n",
       " Comment(id='e6mbi4r'),\n",
       " Comment(id='e6macx5'),\n",
       " Comment(id='e6mk93s'),\n",
       " <MoreComments count=132, children=['e6m9i4i', 'e6nnt3a', 'e6mn1my', '...']>]"
      ]
     },
     "execution_count": 12,
     "metadata": {},
     "output_type": "execute_result"
    }
   ],
   "source": [
    "replies"
   ]
  },
  {
   "cell_type": "markdown",
   "metadata": {},
   "source": [
    "We can open up a MoreComments object, but this necessitates sending another request to reddit."
   ]
  },
  {
   "cell_type": "code",
   "execution_count": 93,
   "metadata": {},
   "outputs": [],
   "source": [
    "mc = replies[-1]\n",
    "\n",
    "comments = []\n",
    "for c in mc.comments():\n",
    "    comments.append(c)"
   ]
  },
  {
   "cell_type": "code",
   "execution_count": 94,
   "metadata": {},
   "outputs": [
    {
     "data": {
      "text/plain": [
       "'Thank you for your work'"
      ]
     },
     "execution_count": 94,
     "metadata": {},
     "output_type": "execute_result"
    }
   ],
   "source": [
    "comments[0].body"
   ]
  },
  {
   "cell_type": "markdown",
   "metadata": {},
   "source": [
    "It's important to keep in mind if you work with reddit Comment Forests to calibrate your code to handle \"MoreComments\" objects gracefully. If you need help writing the code to do this, let me know."
   ]
  }
 ],
 "metadata": {
  "kernelspec": {
   "display_name": "Python 2",
   "language": "python",
   "name": "python2"
  },
  "language_info": {
   "codemirror_mode": {
    "name": "ipython",
    "version": 3
   },
   "file_extension": ".py",
   "mimetype": "text/x-python",
   "name": "python",
   "nbconvert_exporter": "python",
   "pygments_lexer": "ipython3",
   "version": "3.5.6"
  }
 },
 "nbformat": 4,
 "nbformat_minor": 1
}
