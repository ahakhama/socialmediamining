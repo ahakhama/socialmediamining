{
 "cells": [
  {
   "cell_type": "markdown",
   "metadata": {},
   "source": [
    "# Predicting Developer/Publisher success \n",
    "## Data collection, cleaning, and analysis. "
   ]
  },
  {
   "cell_type": "code",
   "execution_count": 8,
   "metadata": {},
   "outputs": [],
   "source": [
    "import praw\n",
    "import requests\n",
    "import pandas as pd\n",
    "import datetime as dt\n",
    "import csv\n",
    "from bs4 import BeautifulSoup\n",
    "## installed lxml.html using \"...$ pip install lxml\", then import into python3 env\n",
    "import lxml.html as lh"
   ]
  },
  {
   "cell_type": "markdown",
   "metadata": {},
   "source": [
    "\n",
    "# Scraping html data\n",
    "\n",
    "1. Create a handle to store the data\n",
    "2. Store the contents of the data under one website\n",
    "3. Parse the data that's stored between the <tr> elements of HTML"
   ]
  },
  {
   "cell_type": "code",
   "execution_count": 64,
   "metadata": {},
   "outputs": [
    {
     "data": {
      "text/plain": [
       "'\\n\\n\\n<!DOCTYPE html PUBLIC \"-//W3C//DTD XHTML 1.0 Transitional//EN\" \"http://www.w3.org/TR/xhtml1/DTD/x'"
      ]
     },
     "execution_count": 64,
     "metadata": {},
     "output_type": "execute_result"
    }
   ],
   "source": [
    "url = \"http://www.vgchartz.com/preorders/43338/USA/\"\n",
    "response = requests.get(url)\n",
    "response.text[:100] "
   ]
  },
  {
   "cell_type": "code",
   "execution_count": 65,
   "metadata": {},
   "outputs": [],
   "source": [
    " class HTMLTableParser:\n",
    "       \n",
    "        def parse_url(self, url):\n",
    "            response = requests.get(url)\n",
    "            soup = BeautifulSoup(response.text, 'lxml')\n",
    "            return [(table['id'],self.parse_html_table(table))\\\n",
    "                    for table in soup.find_all('table')]  \n",
    "    \n",
    "        def parse_html_table(self, table):\n",
    "            n_columns = 0\n",
    "            n_rows=0\n",
    "            column_names = []\n",
    "    \n",
    "            # Find number of rows and columns\n",
    "            # we also find the column titles if we can\n",
    "            for row in table.find_all('tr'):\n",
    "                \n",
    "                # Determine the number of rows in the table\n",
    "                td_tags = row.find_all('td')\n",
    "                if len(td_tags) > 0:\n",
    "                    n_rows+=1\n",
    "                    if n_columns == 0:\n",
    "                        # Set the number of columns for our table\n",
    "                        n_columns = len(td_tags)\n",
    "                        \n",
    "                # Handle column names if we find them\n",
    "                th_tags = row.find_all('th') \n",
    "                if len(th_tags) > 0 and len(column_names) == 0:\n",
    "                    for th in th_tags:\n",
    "                        column_names.append(th.get_text())\n",
    "    \n",
    "            # Safeguard on Column Titles\n",
    "            if len(column_names) > 0 and len(column_names) != n_columns:\n",
    "                raise Exception(\"Column titles do not match the number of columns\")\n",
    "    \n",
    "            columns = column_names if len(column_names) > 0 else range(0,n_columns)\n",
    "            df = pd.DataFrame(columns = columns,\n",
    "                              index= range(0,n_rows))\n",
    "            row_marker = 0\n",
    "            for row in table.find_all('tr'):\n",
    "                column_marker = 0\n",
    "                columns = row.find_all('td')\n",
    "                for column in columns:\n",
    "                    df.iat[row_marker,column_marker] = column.get_text()\n",
    "                    column_marker += 1\n",
    "                if len(columns) > 0:\n",
    "                    row_marker += 1\n",
    "                    \n",
    "            # Convert to float if possible\n",
    "            for col in df:\n",
    "                try:\n",
    "                    df[col] = df[col].astype(float)\n",
    "                except ValueError:\n",
    "                    pass\n",
    "            \n",
    "            return df"
   ]
  },
  {
   "cell_type": "code",
   "execution_count": 66,
   "metadata": {},
   "outputs": [
    {
     "data": {
      "text/plain": [
       "<bound method NDFrame.head of       Spider-Man (PS4) (PS4)Sony Interactive Entertainment, Action-Adventure\n",
       "0        Super Smash Bros. (2018) (NS)Nintendo, Fighting                    \n",
       "1      Red Dead Redemption 2 (PS4)Rockstar Games, Act...                    \n",
       "2      Red Dead Redemption 2 (XOne)Rockstar Games, Ac...                    \n",
       "3      Kingdom Hearts III (PS4)Square Enix, Role-Playing                    \n",
       "4      Call of Duty: Black Ops IIII (PS4)Activision, ...                    \n",
       "5      Days Gone (PS4)Sony Interactive Entertainment,...                    \n",
       "6                        NBA 2K19 (PS4)2K Sports, Sports                    \n",
       "7                 Dead Island 2 (PS4)Deep Silver, Action                    \n",
       "8      Spyro Reignited Trilogy (PS4)Activision, Platform                    \n",
       "9      Call of Duty: Black Ops IIII (XOne)Activision,...                    \n",
       "10                 Super Mario Party (NS)Nintendo, Party                    \n",
       "11     Shadow of the Tomb Raider (PS4)Square Enix, Ac...                    \n",
       "12                      NBA 2K19 (XOne)2K Sports, Sports                    \n",
       "13     Final Fantasy VII Remake (PS4)Square Enix, Rol...                    \n",
       "14     Kingdom Hearts III (XOne)Square Enix, Role-Pla...                    \n",
       "15     Naruto to Boruto: Shinobi Striker (PS4)Bandai ...                    \n",
       "16                      Mega Man 11 (NS)Capcom, Platform                    \n",
       "17      Fallout 76 (PS4)Bethesda Softworks, Role-Playing                    \n",
       "18         Resident Evil 2 (PS4)Capcom, Action-Adventure                    \n",
       "19     Pokémon: Let's Go, Pikachu! (NS)Nintendo, Role...                    \n",
       "20     Fallout 76 (XOne)Bethesda Softworks, Role-Playing                    \n",
       "21     Dark Souls: Remastered (NS)Bandai Namco Entert...                    \n",
       "22                Darksiders III (PS4)THQ Nordic, Action                    \n",
       "23     Naruto to Boruto: Shinobi Striker (XOne)Bandai...                    \n",
       "24      SoulCalibur VI (PS4)Bandai Namco Games, Fighting                    \n",
       "25     Ace Combat 7: Skies Unknown (XOne)Bandai Namco...                    \n",
       "26                     Yakuza Kiwami 2 (PS4)Sega, Action                    \n",
       "27     Ace Combat 7: Skies Unknown (PS4)Bandai Namco ...                    \n",
       "28        Monster Hunter Double Cross (NS)Capcom, Action                    \n",
       "29               Darksiders III (XOne)THQ Nordic, Action                    \n",
       ".. ..                                                ...                    \n",
       "49     Call of Duty: Black Ops IIII (XOne)Activision,...                    \n",
       "50                 Super Mario Party (NS)Nintendo, Party                    \n",
       "51     Shadow of the Tomb Raider (PS4)Square Enix, Ac...                    \n",
       "52                      NBA 2K19 (XOne)2K Sports, Sports                    \n",
       "53     Final Fantasy VII Remake (PS4)Square Enix, Rol...                    \n",
       "54     Kingdom Hearts III (XOne)Square Enix, Role-Pla...                    \n",
       "55     Naruto to Boruto: Shinobi Striker (PS4)Bandai ...                    \n",
       "56                      Mega Man 11 (NS)Capcom, Platform                    \n",
       "57      Fallout 76 (PS4)Bethesda Softworks, Role-Playing                    \n",
       "58         Resident Evil 2 (PS4)Capcom, Action-Adventure                    \n",
       "59     Pokémon: Let's Go, Pikachu! (NS)Nintendo, Role...                    \n",
       "60     Fallout 76 (XOne)Bethesda Softworks, Role-Playing                    \n",
       "61     Dark Souls: Remastered (NS)Bandai Namco Entert...                    \n",
       "62                Darksiders III (PS4)THQ Nordic, Action                    \n",
       "63     Naruto to Boruto: Shinobi Striker (XOne)Bandai...                    \n",
       "64      SoulCalibur VI (PS4)Bandai Namco Games, Fighting                    \n",
       "65     Ace Combat 7: Skies Unknown (XOne)Bandai Namco...                    \n",
       "66                     Yakuza Kiwami 2 (PS4)Sega, Action                    \n",
       "67     Ace Combat 7: Skies Unknown (PS4)Bandai Namco ...                    \n",
       "68        Monster Hunter Double Cross (NS)Capcom, Action                    \n",
       "69               Darksiders III (XOne)THQ Nordic, Action                    \n",
       "70                Metro Exodus (PS4)Deep Silver, Shooter                    \n",
       "71               Metro Exodus (XOne)Deep Silver, Shooter                    \n",
       "72     Shadow of the Tomb Raider (XOne)Square Enix, A...                    \n",
       "73        Dragon Quest XI (PS4)Square Enix, Role-Playing                    \n",
       "74                  Metroid Prime 4 (NS)Nintendo, Action                    \n",
       "75     Spyro Reignited Trilogy (XOne)Activision, Plat...                    \n",
       "76     Pokémon: Let's Go, Eevee! (NS)Nintendo, Role-P...                    \n",
       "77     Assassin's Creed Odyssey (PS4)Ubisoft, Action-...                    \n",
       "78         Valkyria Chronicles 4 (PS4)Sega, Role-Playing                    \n",
       "\n",
       "[79 rows x 2 columns]>"
      ]
     },
     "execution_count": 66,
     "metadata": {},
     "output_type": "execute_result"
    }
   ],
   "source": [
    "df.head"
   ]
  },
  {
   "cell_type": "code",
   "execution_count": null,
   "metadata": {},
   "outputs": [],
   "source": []
  },
  {
   "cell_type": "code",
   "execution_count": null,
   "metadata": {},
   "outputs": [],
   "source": []
  },
  {
   "cell_type": "code",
   "execution_count": null,
   "metadata": {},
   "outputs": [],
   "source": []
  },
  {
   "cell_type": "markdown",
   "metadata": {},
   "source": [
    "# Making a Reddit App for Authorization\n",
    "\n",
    "1. Make a Reddit account and log in\n",
    "2. Go to https://www.reddit.com/prefs/apps/\n",
    "3. Create an App\n",
    "4. Fill out the create application form \n",
    "  1. Choose the \"script\" option\n",
    "  2. For our class, a redirect uri of http://soic.indiana.edu will suffice\n",
    "5. After you've created the app, you'll see a window with your app's settings\n",
    "  1. Get the client id - it's under your app's name\n",
    "  2. Get the client secret\n",
    "  \n"
   ]
  },
  {
   "cell_type": "markdown",
   "metadata": {},
   "source": [
    "# Creating PRAW Reddit api object\n",
    "### The parameters in the variables below are as follows: \n",
    "\n",
    "- client_id='PERSONAL_USE_SCRIPT_14_CHARS', \\\n",
    "- client_secret='SECRET_KEY_27_CHARS ', \\\n",
    "- user_agent='YOUR_APP_NAME', \\\n",
    "- username='YOUR_REDDIT_USER_NAME', \\\n",
    "- password='YOUR_REDDIT_LOGIN_PASSWORD')"
   ]
  },
  {
   "cell_type": "code",
   "execution_count": 20,
   "metadata": {},
   "outputs": [],
   "source": [
    "\n",
    "\n",
    "client_id = \"WhkpjLo6_5t5zQ\" # insert your client ID here\n",
    "client_secret = \"nZhrnOnulzDse-k6AujCKkGPyh4\" # client secret here\n",
    "user_agent = \"IU-SMM-2\" # a string identifying your app to agents; it is courteous practice to provide your contact info\n",
    "# username = \"psuaggie\"\n",
    "\n",
    "r = praw.Reddit(client_id=client_id, client_secret=client_secret, user_agent=user_agent)"
   ]
  },
  {
   "cell_type": "markdown",
   "metadata": {},
   "source": [
    "# Analysis Notes\n",
    "- The end goal of the structured data will be to have a tabular dataset of aggregated sentiment for studios and titles. For instance, if Bethesda makes fallout, I would capture comments with either 'Bethesda' or 'Fall Out' and rate the sentiment of those comments, along with the other features, then aggregate by the date. \n",
    "\n",
    "## Anticipated problems/obstacles\n",
    "- how do I treat submissions and comments - the same? does it matter if they're related? \n",
    "- can we obtain other information about a given comment (e.g. score or controversial-ity)\n",
    "\n",
    "## Needed Features: \n",
    "1) Comment body\n",
    "    - needs to be filtered on particular keywords (e.g. studio name, title name)\n",
    "2) Date\n",
    "3) Score\n",
    "4) Platform.  \n",
    "    - Maybe there's some difference in how users of different platforms feel about a given title"
   ]
  },
  {
   "cell_type": "markdown",
   "metadata": {},
   "source": [
    "# Getting Content from Subreddits\n",
    "\n",
    "Let's make a Pythonic object representing the subreddit."
   ]
  },
  {
   "cell_type": "code",
   "execution_count": 4,
   "metadata": {},
   "outputs": [],
   "source": [
    "subreddit_gaming = r.subreddit(\"gaming\")\n",
    "subreddit_ps4 = r.subreddit(\"ps4\")\n",
    "## subreddit_xbox360 = r.subreddit(\"xbox360\")\n",
    "subreddit_wii = r.subreddit(\"wii\")\n",
    "subreddit_xboxone = r.subreddit(\"xboxone\")\n",
    "gaming = r.subreddit('gaming')"
   ]
  },
  {
   "cell_type": "markdown",
   "metadata": {},
   "source": [
    "Get most recent comments and scores."
   ]
  },
  {
   "cell_type": "code",
   "execution_count": 5,
   "metadata": {},
   "outputs": [],
   "source": [
    "comments_gaming = []\n",
    "comments_ps4 = []\n",
    "## comments_xbox360 = []\n",
    "comments_wii = []\n",
    "comments_xboxone = []\n",
    "\n",
    "for c in subreddit_gaming.comments(limit=10):\n",
    "    comments_gaming.append((c.body, c.score))\n",
    "    \n",
    "for c in subreddit_xboxone.comments(limit=10):\n",
    "    comments_xboxone.append((c.body, c.score))    \n",
    "\n",
    "for c in subreddit_ps4.comments(limit=10):\n",
    "    comments_ps4.append((c.body, c.score))\n",
    "\n",
    "##for c in subreddit_xbox360.comments(limit=10):\n",
    "  ##  comments_xbox360.append((c.body, c.score))\n",
    "\n",
    "for c in subreddit_wii.comments(limit=10):\n",
    "    comments_wii.append((c.body, c.score))\n"
   ]
  },
  {
   "cell_type": "code",
   "execution_count": 6,
   "metadata": {},
   "outputs": [
    {
     "name": "stdout",
     "output_type": "stream",
     "text": [
      "[(' NO. 1st ONE!', 1), ('Why not let people enjoy what they are doing. No point in stopping them. ', 1), (\"Should I make this post again or does it add nothing to the thread and I'm only doing it because I'm a loser? Nah I'm right I'll do it again - u/tastyboye\", 1), ('remember when bad rats was the only grossly low quality game on steam? good times.', 1), (\"I was wondering if Play E had any other outlets overseas but it seems they're entirely local. Hello there fellow singaporean. \", 1), ('Half-life is a classic. Usually library updates. ', 1), ('r/sbubby ', 1), ('2nd one', 1), ('Praise be Randy, we give thanks for the 5 fucking cargo drops in a row filled with human skin cowboy hats. Amen.', 1), ('I honestly had the same game from block buster', 1)]\n",
      "**************************************************\n",
      "[('Yes it is great', 1), ('https://www.google.com/amp/s/www.dailymail.co.uk/news/article-4190178/amp/Jaws-death-story-USS-Indianapolis.html', 1), ('Detroit Become Human ', 1), (\"Because I know I'm going to play the game despite reviews, and it nets me the game Tuesday vs Friday. \", 1), ('Odd.. I want to play this game now, is it any good?', 1), (\"Yeah it was visually stunning but I feel like they really sacrificed a franchise that would have fitted in with the story driven single player theme that Sony has going right now. It's a completely new IP superhero game too, which makes it unique considering other hits so far have been Arkham and Spider-Man 2018. Feels like a waste of quality world building in an industry that rarely sees superheroes that aren't Marvel or DC licenses. \", 1), ('Check your cloud save ?', 1), ('Watch_Dogs 2', 1), ('Took me 80 hours to complete was fantastic though. ', 1), ('Bloodborne. My first and only game. ', 1)]\n",
      "**************************************************\n",
      "[('What kind of sadistic Devs do that?', 1), (\"The thing about gameplay that messed me up was trying to set which guns I could swap back and forth between. Just when I thought I had the ones I wanted set, I'd do a test quick swap back and forth and one of the guns was always one that I didn't want to use. \", 1), ('[my upload is shitty tho](http://www.speedtest.net/result/7678913564)', 1), ('Is fat, like 50+gb at least', 1), (\"A great game I'd recommend to anyone\", 1), ('Issue is how much the publisher of Wolfenstein make on game pass versus current sales. You think they get the full subscription?', 1), ('I posted it because major of people in US and western countries need to pay a lot for that speed...I love Eastern Europe haha. ', 1), ('Really hyped for this GwG, Always wanted to pick up overcooked but heard the single-player aspect was kinda lame so i never dropped the cash on it.', 1), ('Thanks dude!', 1), ('Sales is a more important metric for them I think.\\n\\nWhich is difficult to judge for the recent Forza games because MS stopped reporting on sales. ', 1)]\n",
      "**************************************************\n",
      "[(\"Assuming you mean the RVL-101 and not the mini. I don't have a RVL-101 but I own and have serviced quite a few of the normal RVL-001 units.\\n\\nLooked at pictures of the 101 and it's pretty much exactly the same as the 001.\\n\\nLook up a dissasembly/repair guide for the normal Wii 001 unit and I believe you'll find it matches up quite a bit.\\n\\nThe GameCube parts on the 001 that were removed didn't affect the dissasembly proccess much so I'd hope it's similar.\", 2), ('Never played much of the multi player but I think BO and Mw3 had the most customizable controls, if memory serves me correctly.', 1), ('mario kart wii is THE BIGGEST game on [wiimiifi](https://wiimmfi.de/stat?m=8)\\n\\nwhat one is better? more active? MW, WaW or BO?', 1), (\"It has come to my attention recently that San Andreas is not actually on a dual layer disc. I remembered this thread and thought I'd let you know. Maybe the disc buffers really are detrimental to dual layer games, though I don't see why they would be, as they don't do anything to the data layer.\", 2), (\"As far as I know, Playstations are the same. At least the PS2 is. I've never had a PS1.\", 1), (\"Depends of the game. For smash, any port will do. For metal gear solid twin snakes, you'll have to change the controller port at some point (wink wink). I believe Mario Kart would work in any port too.\\n\\nIf you want to be safe, just use the first port all the time.\", 1), ('>unless you own the Wii mini since there is no SD card slot.\\n\\nOh, no no no... No Wii Mini. The Wii Mini is PURE EVIL. No GameCube support, no SD card slot, no Component Video support... Bleh.', 2), (\"This might be difficult but it may be worth trying out a different display to see if that's not at fault here\", 1), (\"Sorry, you have to beat the game to unlock the extra modes :/   But you could however use Gamefaqs or a save file website to have already beaten the main game without   Just slap it on your SD card and transfer it to system to memory..... unless you own the Wii mini since there is no SD card slot.   \\n\\nHere's a handy link:  \\nhttps://gamefaqs.gamespot.com/wii/938877-resident-evil-4-wii-edition/saves\\n\\nI forgot one more pro:  The Wii version has a trailer for Umbrella Chronicles that no other one has.  It's mabe a minute or two long but there is something none of the others have.\\n\\nGood luck strangeh!\", 1), (\"Now that's dedication.\\n\\nI think I'm going to play the original GameCube version. One last question - is it possible to play extra content on the Wii without beating the main game again?\", 1)]\n"
     ]
    }
   ],
   "source": [
    "print(comments_gaming[0:10])\n",
    "print('*'* 50)\n",
    "\n",
    "print(comments_ps4[0:10])\n",
    "print('*'* 50)\n",
    "\n",
    "##print(comments_xbox360[0:10])\n",
    "##print('*'* 50)\n",
    "\n",
    "print(comments_xboxone[0:10])\n",
    "print('*'* 50)\n",
    "\n",
    "print(comments_wii[0:10])\n"
   ]
  },
  {
   "cell_type": "code",
   "execution_count": 16,
   "metadata": {},
   "outputs": [],
   "source": [
    " html_string = '''\n",
    "    <table>\n",
    "        <tr>\n",
    "            <td> Hello! </td>\n",
    "            <td> Table </td>\n",
    "        </tr>\n",
    "    </table>\n",
    "'''\n",
    "    \n",
    "    soup = BeautifulSoup(html_string, 'lxml') # Parse the HTML as a string\n",
    "    \n",
    "    table = soup.find_all('table')[0] # Grab the first table\n",
    "    \n",
    "    new_table = pd.DataFrame(columns=range(0,2), index = [0]) # I know the size \n",
    "    \n",
    "    row_marker = 0\n",
    "    for row in table.find_all('tr'):\n",
    "        column_marker = 0\n",
    "        columns = row.find_all('td')\n",
    "        for column in columns:\n",
    "            new_table.iat[row_marker,column_marker] = column.get_text()\n",
    "            column_marker += 1\n",
    "    \n",
    "    new_table"
   ]
  },
  {
   "cell_type": "code",
   "execution_count": 15,
   "metadata": {
    "scrolled": true
   },
   "outputs": [
    {
     "name": "stdout",
     "output_type": "stream",
     "text": [
      "[['Pos ', 'Game ', 'Weeks to Launch ', 'Weekly Change ', 'Total'], ['1 ', ''], ['Spider-Man (PS4) Wiki | Gamewise'], ['', 'Spider-Man (PS4) (PS4)'], ['Sony Interactive Entertainment, Action-Adventure'], ['', '2 ', '13,142 ', '295,073'], ['2 ', ''], ['Super Smash Bros. (2018) Wiki | Gamewise'], ['', 'Super Smash Bros. (2018) (NS)'], ['Nintendo, Fighting'], ['', '15 ', '29,610 ', '272,702'], ['3 ', ''], ['Red Dead Redemption 2 Wiki | Gamewise'], ['', 'Red Dead Redemption 2 (PS4)'], ['Rockstar Games, Action-Adventure'], ['', '9 ', '6,474 ', '253,289'], ['4 ', ''], ['Red Dead Redemption 2 Wiki | Gamewise'], ['', 'Red Dead Redemption 2 (XOne)'], ['Rockstar Games, Action-Adventure'], ['', '9 ', '3,330 ', '176,801'], ['5 ', ''], ['Kingdom Hearts III Wiki | Gamewise'], ['', 'Kingdom Hearts III (PS4)'], ['Square Enix, Role-Playing'], ['', '23 ', '3,744 ', '169,742'], ['6 ', ''], ['Call of Duty: Black Ops IIII Wiki | Gamewise'], ['', 'Call of Duty: Black Ops IIII (PS4)'], ['Activision, Shooter'], ['', '7 ', '3,587 ', '139,810'], ['7 ', ''], ['Days Gone Wiki | Gamewise'], ['', 'Days Gone (PS4)'], ['Sony Interactive Entertainment, Action'], ['', '26 ', '420 ', '117,581'], ['8 ', ''], ['NBA 2K19 Wiki | Gamewise'], ['', 'NBA 2K19 (PS4)'], ['2K Sports, Sports'], ['', '3 ', '17,528 ', '98,070'], ['9 ', ''], ['Dead Island 2 Wiki | Gamewise'], ['', 'Dead Island 2 (PS4)'], ['Deep Silver, Action'], ['', '19 ', '176 ', '90,075'], ['10 ', ''], ['Spyro Reignited Trilogy Wiki | Gamewise'], ['', 'Spyro Reignited Trilogy (PS4)'], ['Activision, Platform'], ['', '12 ', '2,541 ', '89,721'], ['11 ', ''], ['Call of Duty: Black Ops IIII Wiki | Gamewise'], ['', 'Call of Duty: Black Ops IIII (XOne)'], ['Activision, Shooter'], ['', '7 ', '3,318 ', '79,006'], ['12 ', ''], ['Super Mario Party Wiki | Gamewise'], ['', 'Super Mario Party (NS)'], ['Nintendo, Party'], ['', '6 ', '15,686 ', '56,562'], ['13 ', ''], ['Shadow of the Tomb Raider Wiki | Gamewise'], ['', 'Shadow of the Tomb Raider (PS4)'], ['Square Enix, Action-Adventure'], ['', '3 ', '4,655 ', '50,557'], ['14 ', ''], ['NBA 2K19 Wiki | Gamewise'], ['', 'NBA 2K19 (XOne)'], ['2K Sports, Sports'], ['', '2 ', '14,636 ', '48,703'], ['15 ', ''], ['Final Fantasy VII Remake Wiki | Gamewise'], ['', 'Final Fantasy VII Remake (PS4)'], ['Square Enix, Role-Playing'], ['', 'N/A ', '47,543 ', '47,543'], ['16 ', ''], ['Kingdom Hearts III Wiki | Gamewise'], ['', 'Kingdom Hearts III (XOne)'], ['Square Enix, Role-Playing'], ['', '23 ', '356 ', '44,582'], ['17 ', ''], ['Naruto to Boruto: Shinobi Striker Wiki | Gamewise'], ['', 'Naruto to Boruto: Shinobi Striker (PS4)'], ['Bandai Namco Games, Action'], ['', '1 ', '922 ', '37,724'], ['18 ', ''], ['Mega Man 11 Wiki | Gamewise'], ['', 'Mega Man 11 (NS)'], ['Capcom, Platform'], ['', '6 ', '2,001 ', '37,561'], ['19 ', ''], ['Fallout 76 Wiki | Gamewise'], ['', 'Fallout 76 (PS4)'], ['Bethesda Softworks, Role-Playing'], ['', '12 ', '2,311 ', '37,249'], ['20 ', ''], ['Resident Evil 2 Wiki | Gamewise'], ['', 'Resident Evil 2 (PS4)'], ['Capcom, Action-Adventure'], ['', '22 ', '6,453 ', '36,910'], ['21 ', ''], [\"Pokémon: Let's Go, Pikachu! Wiki | Gamewise\"], ['', \"Pokémon: Let's Go, Pikachu! (NS)\"], ['Nintendo, Role-Playing'], ['', '12 ', '5,620 ', '31,651'], ['22 ', ''], ['Fallout 76 Wiki | Gamewise'], ['', 'Fallout 76 (XOne)'], ['Bethesda Softworks, Role-Playing'], ['', '12 ', '2,011 ', '31,601'], ['23 ', ''], ['Dark Souls: Remastered Wiki | Gamewise'], ['', 'Dark Souls: Remastered (NS)'], ['Bandai Namco Entertainment, Role-Playing'], ['', '8 ', '977 ', '31,303'], ['24 ', ''], ['Darksiders III Wiki | Gamewise'], ['', 'Darksiders III (PS4)'], ['THQ Nordic, Action'], ['', '14 ', '755 ', '31,216'], ['25 ', ''], ['Naruto to Boruto: Shinobi Striker Wiki | Gamewise'], ['', 'Naruto to Boruto: Shinobi Striker (XOne)'], ['Bandai Namco Games, Action'], ['', '1 ', '492 ', '30,560'], ['26 ', ''], ['SoulCalibur VI Wiki | Gamewise'], ['', 'SoulCalibur VI (PS4)'], ['Bandai Namco Games, Fighting'], ['', '8 ', '2,441 ', '28,911'], ['27 ', ''], ['Ace Combat 7: Skies Unknown Wiki | Gamewise'], ['', 'Ace Combat 7: Skies Unknown (XOne)'], ['Bandai Namco Games, Shooter'], ['', '19 ', '65 ', '28,626'], ['28 ', ''], ['Yakuza Kiwami 2 Wiki | Gamewise'], ['', 'Yakuza Kiwami 2 (PS4)'], ['Sega, Action'], ['', '1 ', '2,391 ', '27,693'], ['29 ', ''], ['Ace Combat 7: Skies Unknown Wiki | Gamewise'], ['', 'Ace Combat 7: Skies Unknown (PS4)'], ['Bandai Namco Games, Shooter'], ['', '19 ', '190 ', '26,902'], ['30 ', ''], ['Monster Hunter Double Cross Wiki | Gamewise'], ['', 'Monster Hunter Double Cross (NS)'], ['Capcom, Action'], ['', '1 ', '5,642 ', '26,750'], ['31 ', ''], ['Darksiders III Wiki | Gamewise'], ['', 'Darksiders III (XOne)'], ['THQ Nordic, Action'], ['', '14 ', '453 ', '25,306'], ['32 ', ''], ['Metro Exodus Wiki | Gamewise'], ['', 'Metro Exodus (PS4)'], ['Deep Silver, Shooter'], ['', '26 ', '790 ', '23,199'], ['33 ', ''], ['Metro Exodus Wiki | Gamewise'], ['', 'Metro Exodus (XOne)'], ['Deep Silver, Shooter'], ['', '26 ', '772 ', '22,646'], ['34 ', ''], ['Shadow of the Tomb Raider Wiki | Gamewise'], ['', 'Shadow of the Tomb Raider (XOne)'], ['Square Enix, Action-Adventure'], ['', '3 ', '2,581 ', '21,971'], ['35 ', ''], ['Dragon Quest XI Wiki | Gamewise'], ['', 'Dragon Quest XI (PS4)'], ['Square Enix, Role-Playing'], ['', '2 ', '2,490 ', '21,946'], ['36 ', ''], ['Metroid Prime 4 Wiki | Gamewise'], ['', 'Metroid Prime 4 (NS)'], ['Nintendo, Action'], ['', '19 ', '21,365 ', '21,365'], ['37 ', ''], ['Spyro Reignited Trilogy Wiki | Gamewise'], ['', 'Spyro Reignited Trilogy (XOne)'], ['Activision, Platform'], ['', '12 ', '653 ', '20,474'], ['38 ', ''], [\"Pokémon: Let's Go, Eevee! Wiki | Gamewise\"], ['', \"Pokémon: Let's Go, Eevee! (NS)\"], ['Nintendo, Role-Playing'], ['', '12 ', '3,144 ', '18,817'], ['39 ', ''], [\"Assassin's Creed Odyssey Wiki | Gamewise\"], ['', \"Assassin's Creed Odyssey (PS4)\"], ['Ubisoft, Action-Adventure'], ['', '6 ', '3,211 ', '16,656'], ['40 ', ''], ['Valkyria Chronicles 4 Wiki | Gamewise'], ['', 'Valkyria Chronicles 4 (PS4)'], ['Sega, Role-Playing'], ['', '5 ', '442 ', '15,404']]\n"
     ]
    }
   ],
   "source": [
    "import csv\n",
    "with open(\"/home/khickman/IUMSDS/SMM/Project/data/25_Aug_2018.txt\") as f:\n",
    "    reader = csv.reader(f, delimiter=\"\\t\")\n",
    "    d = list(reader)\n",
    "print (d) # 248"
   ]
  },
  {
   "cell_type": "code",
   "execution_count": 6,
   "metadata": {},
   "outputs": [
    {
     "ename": "AttributeError",
     "evalue": "module 'pandas' has no attribute 'read_txt'",
     "output_type": "error",
     "traceback": [
      "\u001b[0;31m---------------------------------------------------------------------------\u001b[0m",
      "\u001b[0;31mAttributeError\u001b[0m                            Traceback (most recent call last)",
      "\u001b[0;32m<ipython-input-6-826e821aa188>\u001b[0m in \u001b[0;36m<module>\u001b[0;34m()\u001b[0m\n\u001b[0;32m----> 1\u001b[0;31m \u001b[0mpreorder\u001b[0m \u001b[0;34m=\u001b[0m \u001b[0mpd\u001b[0m\u001b[0;34m.\u001b[0m\u001b[0mread_txt\u001b[0m\u001b[0;34m(\u001b[0m\u001b[0;34m'~/IUMSDS/SMM/Project/data'\u001b[0m\u001b[0;34m,\u001b[0m \u001b[0msep\u001b[0m\u001b[0;34m=\u001b[0m\u001b[0;34m\"\\t\"\u001b[0m\u001b[0;34m,\u001b[0m \u001b[0mheader\u001b[0m\u001b[0;34m=\u001b[0m\u001b[0;32mNone\u001b[0m\u001b[0;34m)\u001b[0m\u001b[0;34m\u001b[0m\u001b[0m\n\u001b[0m\u001b[1;32m      2\u001b[0m \u001b[0;31m# data.columns = [\"a\", \"b\", \"c\", \"etc.\"]\u001b[0m\u001b[0;34m\u001b[0m\u001b[0;34m\u001b[0m\u001b[0m\n",
      "\u001b[0;31mAttributeError\u001b[0m: module 'pandas' has no attribute 'read_txt'"
     ]
    }
   ],
   "source": [
    "preorder = pd.read_txt('~/IUMSDS/SMM/Project/data', sep=\"\\t\", header=None)\n",
    "# data.columns = [\"a\", \"b\", \"c\", \"etc.\"]"
   ]
  },
  {
   "cell_type": "markdown",
   "metadata": {},
   "source": [
    "# Getting comments on submissions\n",
    "\n",
    "Getting comments on submissions is a little complicated. With users or entire subreddits, it's simple, because there is a one-to-many correspondence between user/subreddit and the comments it has. However, comments on a submission are organized in a *tree-like structure*; that is, the submission itself may have comments, and those comments may have comments on them, and so on. Because of this, we don't have helpful organizing functions like ``new`` or ``top``. We have to get them all and organize them ourselves. \n",
    "\n",
    "First, let's get the most recent submission of a subreddit and try to get the *top-level comments* on that submission. "
   ]
  },
  {
   "cell_type": "code",
   "execution_count": 7,
   "metadata": {},
   "outputs": [],
   "source": [
    "newssubreddit = r.subreddit(\"news\")\n",
    "\n",
    "submissions = []\n",
    "\n",
    "for submission in newssubreddit.top(limit=5, time_filter=\"week\"):\n",
    "    submissions.append(submission)\n",
    "    \n",
    "s = submissions[0] # Let's work with the first submission"
   ]
  },
  {
   "cell_type": "code",
   "execution_count": 8,
   "metadata": {},
   "outputs": [],
   "source": [
    "comments = []\n",
    "\n",
    "for top_level_comment in s.comments:\n",
    "    comments.append(top_level_comment)"
   ]
  },
  {
   "cell_type": "code",
   "execution_count": 9,
   "metadata": {
    "scrolled": true
   },
   "outputs": [
    {
     "data": {
      "text/plain": [
       "\"Teacher here. Just wanted to chime in and explain why these policies exist, as it was explained to me years ago:\\n\\nThe idea is that if a student can't receive lower than a 50 per marking period, there is never a point where it is impossible for them to pass for the year. Technically, they could not show up for three quarters, pull a 100 in the fourth, and still pass for the year. \\n\\nNow, an optimist would say this is a good thing, as it means the students will always have that opportunity to make a comeback. Particularly in low-income districts that lack parent engagement, the last thing you want is a kid realizing they can't possibly pass for the year and deciding to spend their day on the street instead of wasting it in school. I've seen firsthand students who really only kept coming to class because they still had that chance -- however small -- to pass for the year.\\n\\nThe more pessimistic view is what many have already pointed out in these comments: that it allows schools to keep pushing students through the system without actually teaching them anything, artificially inflating graduation rates and making admin look good. I've also seen this first hand, as well as the fallout when it was discovered by the school board.\\n\\nPersonally speaking, I'm not a fan of giving a student a 50 for doing nothing. I understand there are specific scenarios where a student misses a large amount of work due to crisis or injury, and that should not destroy all of their previous work. However, I think exceptions can be made for those scenarios without being codified as the mandatory grading policy. But, every school I've worked in has had some policy like this, so unfortunately it seems like it's becoming more common.\""
      ]
     },
     "execution_count": 9,
     "metadata": {},
     "output_type": "execute_result"
    }
   ],
   "source": [
    "# Text of the 11th comment\n",
    "comments[0].body"
   ]
  },
  {
   "cell_type": "markdown",
   "metadata": {},
   "source": [
    "Comments can have comments themselves. Here's how extract the children comments of the first comment on the original submission."
   ]
  },
  {
   "cell_type": "code",
   "execution_count": 10,
   "metadata": {},
   "outputs": [],
   "source": [
    "replies = []\n",
    "\n",
    "for reply in comments[0].replies:\n",
    "    replies.append(reply)"
   ]
  },
  {
   "cell_type": "code",
   "execution_count": 11,
   "metadata": {},
   "outputs": [
    {
     "data": {
      "text/plain": [
       "\"For extenuating circumstances and crises, a blank or N/A is sufficient and won't hurt or help a grade. You could always assign an extra credit assignment that takes a lot of effort or allow past work to be made up for half credit. Basically, you can still give students a chance, but they have to bust their ass for a bit and show that they want it. I see way too many students who have been pushed through the system bragging that they do no work and still pass.\""
      ]
     },
     "execution_count": 11,
     "metadata": {},
     "output_type": "execute_result"
    }
   ],
   "source": [
    "replies[0].body"
   ]
  },
  {
   "cell_type": "markdown",
   "metadata": {},
   "source": [
    "PRAW deals with Reddit rate limitations on comments by inserting \"MoreComments\" objects into the comment tree. For example, at the time of me writing this code, the fourth item in replies is a \"MoreComments\" object."
   ]
  },
  {
   "cell_type": "code",
   "execution_count": 12,
   "metadata": {},
   "outputs": [
    {
     "data": {
      "text/plain": [
       "[Comment(id='e6m8zqf'),\n",
       " Comment(id='e6mbi4r'),\n",
       " Comment(id='e6macx5'),\n",
       " Comment(id='e6mk93s'),\n",
       " <MoreComments count=132, children=['e6m9i4i', 'e6nnt3a', 'e6mn1my', '...']>]"
      ]
     },
     "execution_count": 12,
     "metadata": {},
     "output_type": "execute_result"
    }
   ],
   "source": [
    "replies"
   ]
  },
  {
   "cell_type": "markdown",
   "metadata": {},
   "source": [
    "We can open up a MoreComments object, but this necessitates sending another request to reddit."
   ]
  },
  {
   "cell_type": "code",
   "execution_count": 93,
   "metadata": {},
   "outputs": [],
   "source": [
    "mc = replies[-1]\n",
    "\n",
    "comments = []\n",
    "for c in mc.comments():\n",
    "    comments.append(c)"
   ]
  },
  {
   "cell_type": "code",
   "execution_count": 94,
   "metadata": {},
   "outputs": [
    {
     "data": {
      "text/plain": [
       "'Thank you for your work'"
      ]
     },
     "execution_count": 94,
     "metadata": {},
     "output_type": "execute_result"
    }
   ],
   "source": [
    "comments[0].body"
   ]
  },
  {
   "cell_type": "markdown",
   "metadata": {},
   "source": [
    "It's important to keep in mind if you work with reddit Comment Forests to calibrate your code to handle \"MoreComments\" objects gracefully. If you need help writing the code to do this, let me know."
   ]
  }
 ],
 "metadata": {
  "kernelspec": {
   "display_name": "Python 2",
   "language": "python",
   "name": "python2"
  },
  "language_info": {
   "codemirror_mode": {
    "name": "ipython",
    "version": 3
   },
   "file_extension": ".py",
   "mimetype": "text/x-python",
   "name": "python",
   "nbconvert_exporter": "python",
   "pygments_lexer": "ipython3",
   "version": "3.5.6"
  }
 },
 "nbformat": 4,
 "nbformat_minor": 1
}
