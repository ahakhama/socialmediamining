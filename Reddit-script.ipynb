{
 "cells": [
  {
   "cell_type": "markdown",
   "metadata": {},
   "source": [
    "# Predicting Developer/Publisher success \n",
    "## Data collection, cleaning, and analysis. "
   ]
  },
  {
   "cell_type": "code",
   "execution_count": 1,
   "metadata": {},
   "outputs": [],
   "source": [
    "import praw\n",
    "import requests\n",
    "import pandas as pd\n",
    "import datetime as dt\n",
    "import csv\n",
    "from bs4 import BeautifulSoup\n",
    "## installed lxml.html using \"...$ pip install lxml\", then import into python3 env\n",
    "import lxml.html as lh"
   ]
  },
  {
   "cell_type": "markdown",
   "metadata": {},
   "source": [
    "# Making a Reddit App for Authorization\n",
    "\n",
    "1. Make a Reddit account and log in\n",
    "2. Go to https://www.reddit.com/prefs/apps/\n",
    "3. Create an App\n",
    "4. Fill out the create application form \n",
    "  1. Choose the \"script\" option\n",
    "  2. For our class, a redirect uri of http://soic.indiana.edu will suffice\n",
    "5. After you've created the app, you'll see a window with your app's settings\n",
    "  1. Get the client id - it's under your app's name\n",
    "  2. Get the client secret\n",
    "  \n"
   ]
  },
  {
   "cell_type": "markdown",
   "metadata": {},
   "source": [
    "# Creating PRAW Reddit api object\n",
    "### The parameters in the variables below are as follows: \n",
    "\n",
    "- client_id='PERSONAL_USE_SCRIPT_14_CHARS', \\\n",
    "- client_secret='SECRET_KEY_27_CHARS ', \\\n",
    "- user_agent='YOUR_APP_NAME', \\\n",
    "- username='YOUR_REDDIT_USER_NAME', \\\n",
    "- password='YOUR_REDDIT_LOGIN_PASSWORD')"
   ]
  },
  {
   "cell_type": "code",
   "execution_count": 2,
   "metadata": {},
   "outputs": [],
   "source": [
    "client_id = \"WhkpjLo6_5t5zQ\" # insert your client ID here\n",
    "client_secret = \"nZhrnOnulzDse-k6AujCKkGPyh4\" # client secret here\n",
    "user_agent = \"IU-SMM-2\" # a string identifying your app to agents; it is courteous practice to provide your contact info\n",
    "# username = \"psuaggie\"\n",
    "\n",
    "r = praw.Reddit(client_id=client_id, client_secret=client_secret, user_agent=user_agent)"
   ]
  },
  {
   "cell_type": "markdown",
   "metadata": {},
   "source": [
    "# Analysis Notes\n",
    "- The end goal of the structured data will be to have a tabular dataset of aggregated sentiment for studios and titles. For instance, if Bethesda makes fallout, I would capture comments with either 'Bethesda' or 'Fall Out' and rate the sentiment of those comments, along with the other features, then aggregate by the date. \n",
    "\n",
    "## Anticipated problems/obstacles\n",
    "- how do I treat submissions and comments - the same? does it matter if they're related? \n",
    "- can we obtain other information about a given comment (e.g. score or controversial-ity)\n",
    "\n",
    "## Needed Features: \n",
    "1) Comment body\n",
    "- needs to be filtered on particular keywords (e.g. studio name, title name)\n",
    "2) Date\n",
    "3) Score\n",
    "4) Platform.\n",
    "- Maybe there's some difference in how users of different platforms feel about a given title"
   ]
  },
  {
   "cell_type": "markdown",
   "metadata": {},
   "source": [
    "# Getting Content from Subreddits\n",
    "\n",
    "Let's make a Pythonic object representing the subreddit."
   ]
  },
  {
   "cell_type": "code",
   "execution_count": 21,
   "metadata": {},
   "outputs": [],
   "source": [
    "subreddit_gaming = r.subreddit(\"gaming\")\n",
    "subreddit_ps4 = r.subreddit(\"ps4\")\n",
    "subreddit_wii = r.subreddit(\"wii\")\n",
    "subreddit_xboxone = r.subreddit(\"xboxone\")"
   ]
  },
  {
   "cell_type": "markdown",
   "metadata": {},
   "source": [
    "Get most recent comments and scores."
   ]
  },
  {
   "cell_type": "code",
   "execution_count": 19,
   "metadata": {},
   "outputs": [],
   "source": [
    "comments_gaming = []\n",
    "comments_ps4 = []\n",
    "comments_wii = []\n",
    "comments_xboxone = []\n",
    "\n",
    "for c in subreddit_gaming.comments(limit=100):\n",
    "    comments_gaming.append((c.body, c.score, c.replies, c.is_root))\n",
    "    \n",
    "for c in subreddit_xboxone.comments(limit=100):\n",
    "    comments_xboxone.append((c.body, c.score, c.replies, c.is_root))    \n",
    "\n",
    "for c in subreddit_ps4.comments(limit=100):\n",
    "    comments_ps4.append((c.body, c.score, c.replies, c.is_root))\n",
    "\n",
    "for c in subreddit_wii.comments(limit=100):\n",
    "    comments_wii.append((c.body, c.score, c.replies, c.is_root))\n"
   ]
  },
  {
   "cell_type": "code",
   "execution_count": 20,
   "metadata": {
    "scrolled": true
   },
   "outputs": [
    {
     "name": "stdout",
     "output_type": "stream",
     "text": [
      "[('My parents used to know how to pause online games... they unplugged the internet cable.', 1, <praw.models.comment_forest.CommentForest object at 0xa914cb6c>, True), (\"I don't game online but I do play some games that can't be paused. I just let my wife know ahead of time and she's okay with it. Of course we have a kid so it's not like we can just play whenever we want to.\", 1, <praw.models.comment_forest.CommentForest object at 0xa914cecc>, False), ('\"You Died.\"', 1, <praw.models.comment_forest.CommentForest object at 0xa914c20c>, True), ('i think you mean 17 colossi', 1, <praw.models.comment_forest.CommentForest object at 0xa914cacc>, False), ('He could have gotten it anywhere, from friends, siblings, it doesn’t have to be the internet ', 1, <praw.models.comment_forest.CommentForest object at 0xa914c7ac>, False), ('Gamers RISE UP\\n\\nBOTTOM TEXT ', 1, <praw.models.comment_forest.CommentForest object at 0xa914cf2c>, True), ('👏👏👏 **ＹＯＵ\\u3000ＡＲＥ\\u3000Ａ\\u3000ＢＡＤ\\u3000ＰＡＲＥＮＴＳ** 👏👏👏', 2, <praw.models.comment_forest.CommentForest object at 0xa914c3ac>, True), (\"Shrekcalibur 7: It's all ogre\", 1, <praw.models.comment_forest.CommentForest object at 0xa914c4ac>, True), ('Followed by a worse sequel, followed by the best sequel.', 1, <praw.models.comment_forest.CommentForest object at 0xa914cdac>, False), ('holy shit dude i love your style lol', 1, <praw.models.comment_forest.CommentForest object at 0xa914ce4c>, True)]\n",
      "**************************************************\n",
      "[('why are you being upvoted? you are completely wrong. \\n\\nthe brotherhood of steel being in west virginia in this time is perfectly likely, as they’ve had 25 whole years to make it there. established lore says nothing otherwise because there ISN’T any lore from when they are founded in 2077 to more than 50 years after that. \\n\\nsupermutants definitely existed, too. vault 87 in the capital wasteland, which is right next to west virginia, created the east coast supermutants. their FEV experiments got out of hand and the vault was overrun, releasing the mutant hordes only one year after it was sealed in 2077. their presence in west virginia is almost guaranteed as the only way to preserve their species is to turn people into mutants. the less radiation a subject has, the more intelligent of a mutant they will be, and apparently most of west virginia wasn’t even hit by a nuke directly. appalachia is a prime location for pure “normals”.\\n\\ni haven’t played the game, so i don’t know if griefing will be a problem, but from what i’ve heard the game is very harsh on players who grief.\\n\\nthat being said, saying bethesda hasn’t “thought it through at all” is clearly false and condescending. \\n\\nstop spreading misinformation just because you want to bash bethesda.', 1, <praw.models.comment_forest.CommentForest object at 0xa914c74c>, False), ('Got it! Thanks OP!', 1, <praw.models.comment_forest.CommentForest object at 0xa914c48c>, True), ('you can’t send the message at all but other messages can still be sent', 1, <praw.models.comment_forest.CommentForest object at 0xa914c52c>, False), ('Sometime between January and March would be my guess. ', 1, <praw.models.comment_forest.CommentForest object at 0xa914c0ac>, True), ('Source?', 1, <praw.models.comment_forest.CommentForest object at 0xa914ce6c>, False), ('I make true stereo [headphones](https://www.ebay.com/itm/283175176611?var=&ssPageName=STRK:MESELX:IT&_trksid=p3984.m1555.l2649) for the single sided deaf community that has the left and right drivers placed separately in one ear cup. I lost hearing in one ear about a year ago due to an acoustic tumor and I saw there  was no tech to allow stereo listening with one ear serving the single  sided deaf community so I made a pair of headphones for myself and they  worked so well I started making these headphones for the single sided deaf community.  I made these for music listening but as a gamer I found that I can also echo locate in a game as well - the left speaker is the up speaker and the down speaker is the right speaker so if I hear sound in  the up speaker I know it originates in the left side, etc. You can add a mic with an adapter, etc. \\n\\n&#x200B;', 1, <praw.models.comment_forest.CommentForest object at 0xa914cfcc>, True), ('Just so you know there are generally bots that scrape reddit for codes like this if you just post them like this ', 1, <praw.models.comment_forest.CommentForest object at 0xa914cb2c>, True), (\"Woah, that's serious. Guess I'm setting my messages to private too, even though I'm not really active in online games. Thanks for explaining. :)  \\n\\n\\nI actually did that a couple of times when I was a kid. Not proud of that period of my life, I was a much bigger asshole then than I am now. XD\", 1, <praw.models.comment_forest.CommentForest object at 0xa914c5ac>, False), ('They should block any messages coming from the app/pc in the mean time of a solution to mitigate the issue.', 1, <praw.models.comment_forest.CommentForest object at 0xa9150eec>, True), (\"Try The Crew 2, its family friendly and the open world aspect covers the entire United states. It also has planes and boats to diversify the driving. I'd check that out at the least.\", 1, <praw.models.comment_forest.CommentForest object at 0xa9150eac>, False)]\n",
      "**************************************************\n",
      "[('the solid color thing is a thing with the new update', 1, <praw.models.comment_forest.CommentForest object at 0xa9154fcc>, False), ('How embarrassing ', 1, <praw.models.comment_forest.CommentForest object at 0xa913aa2c>, True), ('Do you have a source on the multiplayer delay? I’m curious to read the article', 1, <praw.models.comment_forest.CommentForest object at 0xa913a78c>, False), ('Because 89 would be too much. ', 1, <praw.models.comment_forest.CommentForest object at 0xa913ab2c>, True), ('My son just tried it out... surprisingly it looked decent.  Reminded me of COD and Counter-Strike.', 1, <praw.models.comment_forest.CommentForest object at 0xa91927cc>, True), (\"High fidelity games with large campaign levels are going to be big. It's unfortunate but game engines have yet to excel in this area. High speed internet is the norm and developers aren't that incentivised to makes games smaller than what would fit on a blu-ray disc. I bet this game is more like 150GB if the textures within were uncompressed. \", 1, <praw.models.comment_forest.CommentForest object at 0xa914c0cc>, True), ('Bioshock Infinite. The story was great but all the grind to see another cutscene was boring and repetitive for  me. ', 1, <praw.models.comment_forest.CommentForest object at 0xa914c9ac>, True), (\"Thus why I said most. \\n\\nI really don't get the hate here? This isn't even a repost? Where did I go wrong lmao\", 1, <praw.models.comment_forest.CommentForest object at 0xa914c54c>, False), (\"That's the call of the void.\", 1, <praw.models.comment_forest.CommentForest object at 0xa914cc8c>, False), ('Those are handled as optional DLC. The delta between the base and X installs for QB is likely prerendered in-game cutscenes being delivered in 1080p/4k to match the gameplay rendering.', 1, <praw.models.comment_forest.CommentForest object at 0xa914c90c>, False)]\n",
      "**************************************************\n",
      "[(\"But it's not worth it if you're just playing Wii games or GameCube. A Wii U goes for around $130 at GameStop. A Wii can go for like $30. The Wii can be modded as well. Why would someone spend $100 more for a system that does the same thing? Not to mention having to buy a Wiimote separately when Wiis come with them.\", 1, <praw.models.comment_forest.CommentForest object at 0xa914ca2c>, False), ('I was simply stating my opinion, that a Wii U is more worth it than a Wii.', 1, <praw.models.comment_forest.CommentForest object at 0xa914c96c>, False), (\"Most people don't. A Wii can be bought for pennies. A Wii U cannot. $30 is way different than over $100.\", 1, <praw.models.comment_forest.CommentForest object at 0xa914c30c>, False), ('I take the modding potential into my decision to purchase a console (especially since modding the Wii U is cheap).', 1, <praw.models.comment_forest.CommentForest object at 0xa914cccc>, False), (\"This has nothing to do with modding. It's about consoles. As is. You can't put a GameCube disc in a Wii U.\", 1, <praw.models.comment_forest.CommentForest object at 0xa914ce0c>, False), ('You can play GameCube games on the Wii U if you mod it.', 1, <praw.models.comment_forest.CommentForest object at 0xa914cd8c>, False), ('This has nothing to do with modding.', 1, <praw.models.comment_forest.CommentForest object at 0xa9166eec>, False), ('It does with modding.', 1, <praw.models.comment_forest.CommentForest object at 0xa9166ecc>, False), (\"The WiiU doesn't play GameCube games. \", 1, <praw.models.comment_forest.CommentForest object at 0xa916650c>, False), ('I once played a game of civilization for 12 house solid. \\n\\nStarting at 6 PM.', 1, <praw.models.comment_forest.CommentForest object at 0xa916634c>, False)]\n"
     ]
    }
   ],
   "source": [
    "print(comments_gaming[0:10])\n",
    "print('*'* 50)\n",
    "\n",
    "print(comments_ps4[0:10])\n",
    "print('*'* 50)\n",
    "\n",
    "##print(comments_xbox360[0:10])\n",
    "##print('*'* 50)\n",
    "\n",
    "print(comments_xboxone[0:10])\n",
    "print('*'* 50)\n",
    "\n",
    "print(comments_wii[0:10])\n"
   ]
  },
  {
   "cell_type": "markdown",
   "metadata": {},
   "source": [
    "# Getting comments on submissions\n",
    "\n",
    "Getting comments on submissions is a little complicated. With users or entire subreddits, it's simple, because there is a one-to-many correspondence between user/subreddit and the comments it has. However, comments on a submission are organized in a *tree-like structure*; that is, the submission itself may have comments, and those comments may have comments on them, and so on. Because of this, we don't have helpful organizing functions like ``new`` or ``top``. We have to get them all and organize them ourselves. \n",
    "\n",
    "First, let's get the most recent submission of a subreddit and try to get the *top-level comments* on that submission. "
   ]
  },
  {
   "cell_type": "code",
   "execution_count": 7,
   "metadata": {},
   "outputs": [],
   "source": [
    "newssubreddit = r.subreddit(\"news\")\n",
    "\n",
    "submissions = []\n",
    "\n",
    "for submission in newssubreddit.top(limit=5, time_filter=\"week\"):\n",
    "    submissions.append(submission)\n",
    "    \n",
    "s = submissions[0] # Let's work with the first submission"
   ]
  },
  {
   "cell_type": "code",
   "execution_count": 8,
   "metadata": {},
   "outputs": [],
   "source": [
    "comments = []\n",
    "\n",
    "for top_level_comment in s.comments:\n",
    "    comments.append(top_level_comment)"
   ]
  },
  {
   "cell_type": "code",
   "execution_count": 9,
   "metadata": {
    "scrolled": true
   },
   "outputs": [
    {
     "data": {
      "text/plain": [
       "\"Teacher here. Just wanted to chime in and explain why these policies exist, as it was explained to me years ago:\\n\\nThe idea is that if a student can't receive lower than a 50 per marking period, there is never a point where it is impossible for them to pass for the year. Technically, they could not show up for three quarters, pull a 100 in the fourth, and still pass for the year. \\n\\nNow, an optimist would say this is a good thing, as it means the students will always have that opportunity to make a comeback. Particularly in low-income districts that lack parent engagement, the last thing you want is a kid realizing they can't possibly pass for the year and deciding to spend their day on the street instead of wasting it in school. I've seen firsthand students who really only kept coming to class because they still had that chance -- however small -- to pass for the year.\\n\\nThe more pessimistic view is what many have already pointed out in these comments: that it allows schools to keep pushing students through the system without actually teaching them anything, artificially inflating graduation rates and making admin look good. I've also seen this first hand, as well as the fallout when it was discovered by the school board.\\n\\nPersonally speaking, I'm not a fan of giving a student a 50 for doing nothing. I understand there are specific scenarios where a student misses a large amount of work due to crisis or injury, and that should not destroy all of their previous work. However, I think exceptions can be made for those scenarios without being codified as the mandatory grading policy. But, every school I've worked in has had some policy like this, so unfortunately it seems like it's becoming more common.\""
      ]
     },
     "execution_count": 9,
     "metadata": {},
     "output_type": "execute_result"
    }
   ],
   "source": [
    "# Text of the 11th comment\n",
    "comments[0].body"
   ]
  },
  {
   "cell_type": "markdown",
   "metadata": {},
   "source": [
    "Comments can have comments themselves. Here's how extract the children comments of the first comment on the original submission."
   ]
  },
  {
   "cell_type": "code",
   "execution_count": 10,
   "metadata": {},
   "outputs": [],
   "source": [
    "replies = []\n",
    "\n",
    "for reply in comments[0].replies:\n",
    "    replies.append(reply)"
   ]
  },
  {
   "cell_type": "code",
   "execution_count": 11,
   "metadata": {},
   "outputs": [
    {
     "data": {
      "text/plain": [
       "\"For extenuating circumstances and crises, a blank or N/A is sufficient and won't hurt or help a grade. You could always assign an extra credit assignment that takes a lot of effort or allow past work to be made up for half credit. Basically, you can still give students a chance, but they have to bust their ass for a bit and show that they want it. I see way too many students who have been pushed through the system bragging that they do no work and still pass.\""
      ]
     },
     "execution_count": 11,
     "metadata": {},
     "output_type": "execute_result"
    }
   ],
   "source": [
    "replies[0].body"
   ]
  },
  {
   "cell_type": "markdown",
   "metadata": {},
   "source": [
    "PRAW deals with Reddit rate limitations on comments by inserting \"MoreComments\" objects into the comment tree. For example, at the time of me writing this code, the fourth item in replies is a \"MoreComments\" object."
   ]
  },
  {
   "cell_type": "code",
   "execution_count": 12,
   "metadata": {},
   "outputs": [
    {
     "data": {
      "text/plain": [
       "[Comment(id='e6m8zqf'),\n",
       " Comment(id='e6mbi4r'),\n",
       " Comment(id='e6macx5'),\n",
       " Comment(id='e6mk93s'),\n",
       " <MoreComments count=132, children=['e6m9i4i', 'e6nnt3a', 'e6mn1my', '...']>]"
      ]
     },
     "execution_count": 12,
     "metadata": {},
     "output_type": "execute_result"
    }
   ],
   "source": [
    "replies"
   ]
  },
  {
   "cell_type": "markdown",
   "metadata": {},
   "source": [
    "We can open up a MoreComments object, but this necessitates sending another request to reddit."
   ]
  },
  {
   "cell_type": "code",
   "execution_count": 93,
   "metadata": {},
   "outputs": [],
   "source": [
    "mc = replies[-1]\n",
    "\n",
    "comments = []\n",
    "for c in mc.comments():\n",
    "    comments.append(c)"
   ]
  },
  {
   "cell_type": "code",
   "execution_count": 94,
   "metadata": {},
   "outputs": [
    {
     "data": {
      "text/plain": [
       "'Thank you for your work'"
      ]
     },
     "execution_count": 94,
     "metadata": {},
     "output_type": "execute_result"
    }
   ],
   "source": [
    "comments[0].body"
   ]
  },
  {
   "cell_type": "markdown",
   "metadata": {},
   "source": [
    "It's important to keep in mind if you work with reddit Comment Forests to calibrate your code to handle \"MoreComments\" objects gracefully. If you need help writing the code to do this, let me know."
   ]
  }
 ],
 "metadata": {
  "kernelspec": {
   "display_name": "Python 2",
   "language": "python",
   "name": "python2"
  },
  "language_info": {
   "codemirror_mode": {
    "name": "ipython",
    "version": 3
   },
   "file_extension": ".py",
   "mimetype": "text/x-python",
   "name": "python",
   "nbconvert_exporter": "python",
   "pygments_lexer": "ipython3",
   "version": "3.5.6"
  }
 },
 "nbformat": 4,
 "nbformat_minor": 1
}
