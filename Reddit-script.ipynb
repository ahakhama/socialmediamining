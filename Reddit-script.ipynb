{
 "cells": [
  {
   "cell_type": "markdown",
   "metadata": {},
   "source": [
    "# Making a Reddit App for Authorization\n",
    "\n",
    "1. Make a Reddit account and log in\n",
    "2. Go to https://www.reddit.com/prefs/apps/\n",
    "3. Create an App\n",
    "4. Fill out the create application form \n",
    "  1. Choose the \"script\" option\n",
    "  2. For our class, a redirect uri of http://soic.indiana.edu will suffice\n",
    "5. After you've created the app, you'll see a window with your app's settings\n",
    "  1. Get the client id - it's under your app's name\n",
    "  2. Get the client secret\n",
    "  \n",
    "# Creating PRAW Reddit api object"
   ]
  },
  {
   "cell_type": "markdown",
   "metadata": {},
   "source": [
    "### The parameters in the variables below are as follows: \n",
    "\n",
    "- client_id='PERSONAL_USE_SCRIPT_14_CHARS', \\\n",
    "- client_secret='SECRET_KEY_27_CHARS ', \\\n",
    "- user_agent='YOUR_APP_NAME', \\\n",
    "- username='YOUR_REDDIT_USER_NAME', \\\n",
    "- password='YOUR_REDDIT_LOGIN_PASSWORD')"
   ]
  },
  {
   "cell_type": "code",
   "execution_count": 26,
   "metadata": {},
   "outputs": [],
   "source": [
    "import praw\n",
    "import pandas as pd\n",
    "import datetime as dt\n",
    "\n",
    "client_id = \"WhkpjLo6_5t5zQ\" # insert your client ID here\n",
    "client_secret = \"nZhrnOnulzDse-k6AujCKkGPyh4\" # client secret here\n",
    "user_agent = \"IU-SMM-2\" # a string identifying your app to agents; it is courteous practice to provide your contact info\n",
    "# username = \"psuaggie\"\n",
    "\n",
    "r = praw.Reddit(client_id=client_id, client_secret=client_secret, user_agent=user_agent)"
   ]
  },
  {
   "cell_type": "markdown",
   "metadata": {},
   "source": [
    "## Getting a User and Their Submissions"
   ]
  },
  {
   "cell_type": "code",
   "execution_count": 6,
   "metadata": {},
   "outputs": [],
   "source": [
    "gaming = r.subreddit('gaming')"
   ]
  },
  {
   "cell_type": "code",
   "execution_count": 6,
   "metadata": {},
   "outputs": [
    {
     "name": "stdout",
     "output_type": "stream",
     "text": [
      "bboe\n"
     ]
    }
   ],
   "source": [
    "user = r.redditor(\"bboe\") # bboe is a PRAW developer\n",
    "print(user.name)"
   ]
  },
  {
   "cell_type": "markdown",
   "metadata": {},
   "source": [
    "Get the user's 10 most recent submissions."
   ]
  },
  {
   "cell_type": "code",
   "execution_count": 19,
   "metadata": {},
   "outputs": [],
   "source": [
    "stored_submissions = []\n",
    "for submission in user.submissions.new(limit=10):\n",
    "    stored_submissions.append(submission)"
   ]
  },
  {
   "cell_type": "markdown",
   "metadata": {},
   "source": [
    "Submission objects have multiple useful properties."
   ]
  },
  {
   "cell_type": "markdown",
   "metadata": {},
   "source": [
    "submission = stored_submissions[1]\n",
    "\n",
    "print(\"Submission author?\")\n",
    "print(submission.author)\n",
    "print(\"How many upvotes?\")\n",
    "print(submission.ups)\n",
    "print(\"And downvotes?\")\n",
    "print(submission.downs)\n",
    "print(\"Total score (ups minus downs)\")\n",
    "print(submission.score)\n",
    "print(\"If it is a text submission, what's the text?\")\n",
    "print(submission.selftext)"
   ]
  },
  {
   "cell_type": "markdown",
   "metadata": {},
   "source": [
    "## Get a user's comments and scores"
   ]
  },
  {
   "cell_type": "markdown",
   "metadata": {},
   "source": [
    "stored_comments = []\n",
    "\n",
    "for comment in user.comments.new(limit=10):\n",
    "    stored_comments.append(comment)"
   ]
  },
  {
   "cell_type": "code",
   "execution_count": null,
   "metadata": {},
   "outputs": [],
   "source": [
    "for comment in stored_comments:\n",
    "    print(comment.body)\n",
    "    print(comment.score)\n",
    "    print(\"*\"*50)"
   ]
  },
  {
   "cell_type": "markdown",
   "metadata": {},
   "source": [
    "## Other ways of pulling submissions/comments\n",
    "\n",
    "Note that we called the method ``new`` to get the user's latest comments. There are methods ``hot``, ``top``, and ``controversial`` that order your items differently. ``new`` does reverse chronological, ``top`` gets items with highest scores, ``controversial`` gets items that have similar levels of upvotes and downvotes, ``hot`` gets items that have gotten upvotes recently."
   ]
  },
  {
   "cell_type": "code",
   "execution_count": null,
   "metadata": {},
   "outputs": [],
   "source": [
    "# bboe's best submissions\n",
    "\n",
    "for submission in user.submissions.top(limit=5):\n",
    "    print(submission.title, submission.score)"
   ]
  },
  {
   "cell_type": "markdown",
   "metadata": {},
   "source": [
    "# Getting Content from Subreddits\n",
    "\n",
    "Let's make a Pythonic object representing the subreddit."
   ]
  },
  {
   "cell_type": "code",
   "execution_count": 20,
   "metadata": {},
   "outputs": [],
   "source": [
    "subreddit_gaming = r.subreddit(\"gaming\")\n",
    "subreddit_ps4 = r.subreddit(\"ps4\")\n",
    "## subreddit_xbox360 = r.subreddit(\"xbox360\")\n",
    "subreddit_wii = r.subreddit(\"wii\")\n",
    "subreddit_xboxone = r.subreddit(\"xboxone\")"
   ]
  },
  {
   "cell_type": "markdown",
   "metadata": {},
   "source": [
    "Get most recent comments and scores."
   ]
  },
  {
   "cell_type": "code",
   "execution_count": 24,
   "metadata": {},
   "outputs": [],
   "source": [
    "comments_gaming = []\n",
    "comments_ps4 = []\n",
    "## comments_xbox360 = []\n",
    "comments_wii = []\n",
    "comments_xboxone = []\n",
    "\n",
    "for c in subreddit_gaming.comments(limit=10):\n",
    "    comments_gaming.append((c.body, c.score))\n",
    "    \n",
    "for c in subreddit_xboxone.comments(limit=10):\n",
    "    comments_xboxone.append((c.body, c.score))    \n",
    "\n",
    "for c in subreddit_ps4.comments(limit=10):\n",
    "    comments_ps4.append((c.body, c.score))\n",
    "\n",
    "##for c in subreddit_xbox360.comments(limit=10):\n",
    "  ##  comments_xbox360.append((c.body, c.score))\n",
    "\n",
    "for c in subreddit_wii.comments(limit=10):\n",
    "    comments_wii.append((c.body, c.score))\n"
   ]
  },
  {
   "cell_type": "code",
   "execution_count": 25,
   "metadata": {},
   "outputs": [
    {
     "name": "stdout",
     "output_type": "stream",
     "text": [
      "[('Dad why my pp moving', 1), ('Dead Space inVR would be the tits! ', 1), (\"It's in a great state right now, at launch there were several game-breaking bugs, but those have all been fixed. There are a few visual glitches here and there, but it's about on par with a Skyrim or Fallout in terms of random glitches and non-game breaking bugs.  \", 1), ('I’m dyslexic I can read this fine!', 1), ('What’s the spatula for? Support?', 1), ('I loved it, sold me on SEGA.', 1), ('Cool now get Bloodborne', 1), ('My steam, Xbox, and PS4 names are all Chumpchees3. I play on all three.', 1), ('Sleeping potion?', 1), (\"It's pretty much 50/50 right now for a lot of people. Half of the people say most of the bugs are fixed and it's fine. Others, like myself, still have problems with a lot of bugs. The biggest and most annoying bug that I found that actually made me stop playing the game is items from my inventory, my horses inventory, AND my personal storage chest would randomly disappear. People have been having this problem for a long time. Again, some say it's fixed, others say it's bugged as hell still.\", 1)]\n",
      "**************************************************\n",
      "[('I am thinking the opposite. I am thinking getting on X due to the improved visuals, and will get the content whenever, haha ', 1), ('It moves and plays music, I’ll see if I can’t find a video. [here](https://youtu.be/WSpAfDP5oEE) ', 1), ('Bought it!', 1), ('your cursor go behind her as well.', 1), ('I was thinking the X for potential improved visuals but I am thinking I am really going to enjoy the game so I will give up the improved visuals to get my hands on new content sooner - so, I guess, the strategy worked??? Lol', 1), ('Battlefield 1 is 80 Gigabytes, if I needed double the space I would need 160 GB, but I only had 50. \\n\\nThe update said it \"required\" 7 GB despite it being 2, so I freed up some space by deleting a 10 gig game. The game updated fine, but heres where kt doesn\\'t add up. If I needed 7 GB to update the game, and I deleted another game with 10 gigs ro make space, why can I reinstall the one I deleted after I update BF1? \\n\\nIf the previous text confused you, I\\'m saying I had to delete a 10 GB game for a 2 GB update, but for some reason it allows me to install the game with no hiccups, while the update needed space ', 1), ('She still look like a male tho', 1), ('My account had been canceled (I don’t know exactly why) and soon when I subscribe again I saw the ad and I signed for the 10% discount! I don’t know if you have to cancel before, but with me was like this...', 1), ('Holy shit', 1), ('Glad to help!', 1)]\n",
      "**************************************************\n",
      "[('he’s just asking a question no need to curse at him', 1), (\"I just took this screenshot, it's not a stock photo. If you don't like it, why not just downvote and ignore, like any mature person would do? \", 1), ('Tyty', 1), ('Tyty', 1), ('8:00 maybe??', 1), ('quiet virgin', 1), ('Probably around 8pm', 1), ('The micros really are minor and actually do encourage playing more for more loot. I’ll take their system over the new cods or overwatch any day. ', 1), ('How? The campaigns are pretty comparable with you spending a surprising amount of time not playing as Chief and things ending on an unsatisfying cliffhanger. The main difference is the Arbiter was 10x more developed, likable, and interesting than Locke.', 1), ('It means it’ll be availible 9/27', 1)]\n",
      "**************************************************\n",
      "[('Came here to say this. 8 player bust a move bash is pretty epic.\\n\\nEdit: and Go Vacation! (Bought the switch version but prefer the Wii version due to better motion control schemes)\\n \\nEdit 2: 4 player Metroid prime trilogy free for all.', 1), ('wait... online is still active!? which one!?\\n\\nholy shit now I want a copy of this game', 1), (\"I had this issue with brawl years back... dual layer issues. had to clean the reader, did some weird thing with a busted disc and a handle and some cleaner...\\n\\nand my goodness it actually worked- no issues since but I hope not cause that's how I boot and play project M\", 1), ('I think GameStop can take them as defective for cheaper ', 1), ('You can use Nintendon’t to play GameCube games with third party controllers. AFAIK there’s no support for other controllers not designed for the wii.', 1), ('Donkey Kong Country, Punch out, and a few other games are fun 2-player games with nunchucks.', 1), ('Boxing, Wii sports resort and the Arena mode of MH3 ... At least those were the reasons why I bought my second nunchuck =)', 2), (\"The Wii actually has built in bluetooth for wiimotes. No need for an adapter.\\n\\nHowever, i've never seen any homebrew capable of connecting third party controllers through bluetooth. You can use USB controllers like wired xbox 360 ones though.\", 3), ('oh no', 4), (\"If you don't get 4 nunchucks, then you can't play 8-players in Bust a Move Bash.\", 5)]\n"
     ]
    }
   ],
   "source": [
    "print(comments_gaming[0:10])\n",
    "print('*'* 50)\n",
    "\n",
    "print(comments_ps4[0:10])\n",
    "print('*'* 50)\n",
    "\n",
    "##print(comments_xbox360[0:10])\n",
    "##print('*'* 50)\n",
    "\n",
    "print(comments_xboxone[0:10])\n",
    "print('*'* 50)\n",
    "\n",
    "print(comments_wii[0:10])\n"
   ]
  },
  {
   "cell_type": "markdown",
   "metadata": {},
   "source": [
    "## Get Highest Rated Submissions from Last Week"
   ]
  },
  {
   "cell_type": "code",
   "execution_count": 52,
   "metadata": {},
   "outputs": [],
   "source": [
    "r_top_submissions = []\n",
    "d_top_submissions = []\n",
    "\n",
    "for s in subreddit_republican.top(limit=10, time_filter=\"week\"):\n",
    "    r_top_submissions.append((s.title, s.score))\n",
    "    \n",
    "for s in subreddit_democrat.top(limit=10, time_filter=\"week\"):\n",
    "    d_top_submissions.append((s.title, s.score))"
   ]
  },
  {
   "cell_type": "code",
   "execution_count": 53,
   "metadata": {},
   "outputs": [
    {
     "name": "stdout",
     "output_type": "stream",
     "text": [
      "('George H. W. Bush Receives Huge Ovation Before Super Bowl Coin Toss', 308)\n",
      "('Nordstrom drops Ivanka Trump-branded clothing and shoes', 4208)\n"
     ]
    }
   ],
   "source": [
    "print(r_top_submissions[0])\n",
    "print(d_top_submissions[0])"
   ]
  },
  {
   "cell_type": "markdown",
   "metadata": {},
   "source": [
    "# Getting comments on submissions\n",
    "\n",
    "Getting comments on submissions is a little complicated. With users or entire subreddits, it's simple, because there is a one-to-many correspondence between user/subreddit and the comments it has. However, comments on a submission are organized in a *tree-like structure*; that is, the submission itself may have comments, and those comments may have comments on them, and so on. Because of this, we don't have helpful organizing functions like ``new`` or ``top``. We have to get them all and organize them ourselves. \n",
    "\n",
    "First, let's get the most recent submission of a subreddit and try to get the *top-level comments* on that submission. "
   ]
  },
  {
   "cell_type": "code",
   "execution_count": 70,
   "metadata": {},
   "outputs": [],
   "source": [
    "newssubreddit = r.subreddit(\"news\")\n",
    "\n",
    "submissions = []\n",
    "\n",
    "for submission in newssubreddit.top(limit=5, time_filter=\"week\"):\n",
    "    submissions.append(submission)\n",
    "    \n",
    "s = submissions[0] # Let's work with the first submission"
   ]
  },
  {
   "cell_type": "code",
   "execution_count": 71,
   "metadata": {},
   "outputs": [],
   "source": [
    "comments = []\n",
    "\n",
    "for top_level_comment in s.comments:\n",
    "    comments.append(top_level_comment)"
   ]
  },
  {
   "cell_type": "code",
   "execution_count": 79,
   "metadata": {},
   "outputs": [
    {
     "data": {
      "text/plain": [
       "'There are lots of reddit comments in political posts like these with opinions and feelings on the matter. I did some reading up for a bit on what powers the federal court are, how I think they apply, and what implications they have here to help people out. (Shout out to /u/victor_e_bull for some of this info)\\n\\n**What does the ruling say?**\\n\\nFirst and foremost the actual ruling can be read [here](http://documents.latimes.com/read-federal-judges-temporary-restraining-order-against-trumps-travel-ban/). Although the case itself deals with only a list of plaintiffs, the judge has issued an order to the defendants (the US government, Trump, and the agencies involved) that apply to not only these plaintiffs but all immigrants.\\n\\n> It IS HEREBY ORDERED THAT:\\n\\n>1) Defendants and their officers, agents, employees, attorneys, and all other persons acting in concert or participating with them are, ENJOINED AND RESTRAINED from enforcing Defendant Donald J Trump\\'s January 27, 20017 Executive Order by removing, detaining, or blocking the entry of Plaintiffs, **or any other person from Iran, Iraq, Libya, Somalia, Sudan, Syria and Yemen with valid immigrant visas.**\\n\\nSo this order is preventing the government and all involved with them from removing, detaining, or blocking entry to these people. There are two questions now, does this judge have the power to do this? And if so what are the implications of it?\\n\\n**Is this within the judges power?**\\n\\nAccording to the constitution, yes he does have this power. Although he is based in California, he is a federal judge. Meaning his job is to interpret and enforce the constitution. This is indeed backed up by the constitution. A quote from [article 3 section 2](https://www.constituteproject.org/constitution/United_States_of_America_1992): \\n\\n> The judicial Power shall extend to all Cases, in Law and Equity, arising under ... [other cases listed] to Controversies to which the United States shall be a Party\\n\\nThe United States is clearly a party in this issue and this judge is part of the definition of the \"judicial Power\" given in article 3 section 1. So he does indeed have the power to make such orders.\\n\\n**What are the implications of this though now?**\\n\\n**1) Is this enforceable?** Sadly not exactly. Although the constitution grants the rights to the courts to review this things and pass these judgements, the only thing that holds the government to following these judgements is good faith. \\n\\nIn the past presidents have indeed ignored this. You can read about it [here](http://www.ushistory.org/gov/9e.asp) in the last paragraph under \"Checks on Judicial Power\" So if Trump chooses to flat out ignore the order there is no official power in place, at least according to the constitution, to stop him from still enforcing it.\\n\\nI feel that this implies that it is important that we as people stand up about this and let our opinions be known. We are the ones that choose in elections what happens. We might not be able to enforce it now, but we can get rid of people who ignore such orders through elections.\\n\\n**2) Can valid visas still be revoked**\\n\\nThe answer I have come to is yes and no. Careful readers may have noticed the order only prevents from removing, detaining, or blocking entry to people with valid visas and nothing else. There is nothing in there that prevents the state department or other entities from revoking valid visas.\\n\\nHowever there are rules and reasons as to why visas can be revoked. [The Code of Federal Regulations](https://en.wikipedia.org/wiki/Code_of_Federal_Regulations) is what governs this.[ Part 41.122](https://www.uscis.gov/ilink/docView/22CFR/HTML/22CFR/0-0-0-1/0-0-0-500/0-0-0-1928.html) states rules for revocations of visas.\\n\\nPart 1a contains a reference to [a list of reasons](https://www.uscis.gov/ilink/docView/SLB/HTML/SLB/0-0-0-1/0-0-0-29/0-0-0-2006.html#0-0-0-1201) why visas can be revoked. Although security and terrorism related reasons are listed (section 3), all cases seemed to requires evidence or \"reasonable ground to believe\" that they are a threat for these reasons. I did not run across any other more general rules that allowed for arbitrary exceptions of that. So in this sense, no they cannot cancel visas.\\n\\nOn the other hand \"reasonable ground to believe\" is not defined in this section of the document so that could be very easily twisted to vague notions of a threat from these countries by the Trump administration. So in that sense, yes they can do so.\\n\\nHowever it is also listed in Part 41.122 4b that: \\n\\n>The alien shall also be given an opportunity to show why the visa should not be revoked and requested to present the travel document in which the visa was originally issued.\\n\\nSo all those effected should in theory have the right to question the decision with our without an attorney.\\n\\n**TL;DR -** *The judges order prevents the government from removing, detaining, or blocking entry to people with valid visas and nothing else. It is within the judges power to do this according to the constitution, however the government can just ignore him. Visas can still be canceled if reasonable grounds to believe there are security risks, but it is vague what that means.*\\n\\n\\n'"
      ]
     },
     "execution_count": 79,
     "metadata": {},
     "output_type": "execute_result"
    }
   ],
   "source": [
    "# Text of the 11th comment\n",
    "comments[0].body"
   ]
  },
  {
   "cell_type": "markdown",
   "metadata": {},
   "source": [
    "Comments can have comments themselves. Here's how extract the children comments of the first comment on the original submission."
   ]
  },
  {
   "cell_type": "code",
   "execution_count": 84,
   "metadata": {},
   "outputs": [],
   "source": [
    "replies = []\n",
    "\n",
    "for reply in comments[0].replies:\n",
    "    replies.append(reply)"
   ]
  },
  {
   "cell_type": "code",
   "execution_count": 85,
   "metadata": {},
   "outputs": [
    {
     "data": {
      "text/plain": [
       "'The revocation rules you listed are for Consular Offices.  The State Department can revoke for no reason at all.'"
      ]
     },
     "execution_count": 85,
     "metadata": {},
     "output_type": "execute_result"
    }
   ],
   "source": [
    "replies[0].body"
   ]
  },
  {
   "cell_type": "markdown",
   "metadata": {},
   "source": [
    "PRAW deals with Reddit rate limitations on comments by inserting \"MoreComments\" objects into the comment tree. For example, at the time of me writing this code, the fourth item in replies is a \"MoreComments\" object."
   ]
  },
  {
   "cell_type": "code",
   "execution_count": 90,
   "metadata": {},
   "outputs": [
    {
     "data": {
      "text/plain": [
       "[Comment(id='dd9wf5m'),\n",
       " Comment(id='dda286y'),\n",
       " Comment(id='dda7p6d'),\n",
       " <MoreComments count=31, children=['dd9yfy8', 'dda3r4z', 'dda3ia2', '...']>]"
      ]
     },
     "execution_count": 90,
     "metadata": {},
     "output_type": "execute_result"
    }
   ],
   "source": [
    "replies"
   ]
  },
  {
   "cell_type": "markdown",
   "metadata": {},
   "source": [
    "We can open up a MoreComments object, but this necessitates sending another request to reddit."
   ]
  },
  {
   "cell_type": "code",
   "execution_count": 93,
   "metadata": {},
   "outputs": [],
   "source": [
    "mc = replies[-1]\n",
    "\n",
    "comments = []\n",
    "for c in mc.comments():\n",
    "    comments.append(c)"
   ]
  },
  {
   "cell_type": "code",
   "execution_count": 94,
   "metadata": {},
   "outputs": [
    {
     "data": {
      "text/plain": [
       "'Thank you for your work'"
      ]
     },
     "execution_count": 94,
     "metadata": {},
     "output_type": "execute_result"
    }
   ],
   "source": [
    "comments[0].body"
   ]
  },
  {
   "cell_type": "markdown",
   "metadata": {},
   "source": [
    "It's important to keep in mind if you work with reddit Comment Forests to calibrate your code to handle \"MoreComments\" objects gracefully. If you need help writing the code to do this, let me know."
   ]
  }
 ],
 "metadata": {
  "kernelspec": {
   "display_name": "Python 2",
   "language": "python",
   "name": "python2"
  },
  "language_info": {
   "codemirror_mode": {
    "name": "ipython",
    "version": 3
   },
   "file_extension": ".py",
   "mimetype": "text/x-python",
   "name": "python",
   "nbconvert_exporter": "python",
   "pygments_lexer": "ipython3",
   "version": "3.5.6"
  }
 },
 "nbformat": 4,
 "nbformat_minor": 1
}
