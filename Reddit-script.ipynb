{
 "cells": [
  {
   "cell_type": "markdown",
   "metadata": {},
   "source": [
    "# Predicting Developer/Publisher success \n",
    "## Data collection, cleaning, and analysis. "
   ]
  },
  {
   "cell_type": "code",
   "execution_count": 1,
   "metadata": {},
   "outputs": [],
   "source": [
    "import praw\n",
    "import requests\n",
    "import pandas as pd\n",
    "import datetime as dt\n",
    "import csv\n",
    "from bs4 import BeautifulSoup\n",
    "## installed lxml.html using \"...$ pip install lxml\", then import into python3 env\n",
    "import lxml.html as lh"
   ]
  },
  {
   "cell_type": "markdown",
   "metadata": {},
   "source": [
    "# Making a Reddit App for Authorization\n",
    "\n",
    "1. Make a Reddit account and log in\n",
    "2. Go to https://www.reddit.com/prefs/apps/\n",
    "3. Create an App\n",
    "4. Fill out the create application form \n",
    "  1. Choose the \"script\" option\n",
    "  2. For our class, a redirect uri of http://soic.indiana.edu will suffice\n",
    "5. After you've created the app, you'll see a window with your app's settings\n",
    "  1. Get the client id - it's under your app's name\n",
    "  2. Get the client secret\n",
    "  \n"
   ]
  },
  {
   "cell_type": "markdown",
   "metadata": {},
   "source": [
    "# Creating PRAW Reddit api object\n",
    "### The parameters in the variables below are as follows: \n",
    "\n",
    "- client_id='PERSONAL_USE_SCRIPT_14_CHARS', \\\n",
    "- client_secret='SECRET_KEY_27_CHARS ', \\\n",
    "- user_agent='YOUR_APP_NAME', \\\n",
    "- username='YOUR_REDDIT_USER_NAME', \\\n",
    "- password='YOUR_REDDIT_LOGIN_PASSWORD')"
   ]
  },
  {
   "cell_type": "code",
   "execution_count": 2,
   "metadata": {},
   "outputs": [],
   "source": [
    "client_id = \"WhkpjLo6_5t5zQ\" # insert your client ID here\n",
    "client_secret = \"nZhrnOnulzDse-k6AujCKkGPyh4\" # client secret here\n",
    "user_agent = \"IU-SMM-2\" # a string identifying your app to agents; it is courteous practice to provide your contact info\n",
    "# username = \"psuaggie\"\n",
    "\n",
    "r = praw.Reddit(client_id=client_id, client_secret=client_secret, user_agent=user_agent)"
   ]
  },
  {
   "cell_type": "markdown",
   "metadata": {},
   "source": [
    "# Analysis Notes\n",
    "- The end goal of the structured data will be to have a tabular dataset of aggregated sentiment for studios and titles. For instance, if Bethesda makes fallout, I would capture comments with either 'Bethesda' or 'Fall Out' and rate the sentiment of those comments, along with the other features, then aggregate by the date. \n",
    "\n",
    "## Anticipated problems/obstacles\n",
    "- how do I treat submissions and comments - the same? does it matter if they're related? \n",
    "- can we obtain other information about a given comment (e.g. score or controversial-ity)\n",
    "\n",
    "## Needed Features: \n",
    "1) Comment body\n",
    "- needs to be filtered on particular keywords (e.g. studio name, title name)\n",
    "2) Date\n",
    "3) Score\n",
    "4) Platform.\n",
    "- Maybe there's some difference in how users of different platforms feel about a given title"
   ]
  },
  {
   "cell_type": "markdown",
   "metadata": {},
   "source": [
    "# Getting Content from Subreddits\n",
    "\n",
    "Let's make a Pythonic object representing the subreddit."
   ]
  },
  {
   "cell_type": "code",
   "execution_count": 23,
   "metadata": {},
   "outputs": [],
   "source": [
    "subreddit_nintendo = r.subreddit(\"nintendo\")\n",
    "subreddit_ps4 = r.subreddit(\"ps4\")\n",
    "subreddit_wii = r.subreddit(\"wii\")\n",
    "subreddit_xboxone = r.subreddit(\"xboxone\")"
   ]
  },
  {
   "cell_type": "markdown",
   "metadata": {},
   "source": [
    "Get most recent comments and scores."
   ]
  },
  {
   "cell_type": "code",
   "execution_count": 24,
   "metadata": {},
   "outputs": [],
   "source": [
    "comments_ps4 = []\n",
    "comments_wii = []\n",
    "comments_xboxone = []\n",
    "comments_nintendo = []\n",
    "\n",
    "for c in subreddit_nintendo.comments(limit=100):\n",
    "    comments_gaming.append((c.body, c.score, c.replies, c.is_root))\n",
    "    \n",
    "for c in subreddit_xboxone.comments(limit=100):\n",
    "    comments_xboxone.append((c.body, c.score, c.replies, c.is_root))    \n",
    "\n",
    "for c in subreddit_ps4.comments(limit=100):\n",
    "    comments_ps4.append((c.body, c.score, c.replies, c.is_root))\n",
    "\n",
    "for c in subreddit_wii.comments(limit=100):\n",
    "    comments_wii.append((c.body, c.score, c.replies, c.is_root))\n"
   ]
  },
  {
   "cell_type": "code",
   "execution_count": 26,
   "metadata": {
    "scrolled": true
   },
   "outputs": [
    {
     "name": "stdout",
     "output_type": "stream",
     "text": [
      "[]\n",
      "**************************************************\n",
      "[('My favorite western, with tombstone a close second.', 1, <praw.models.comment_forest.CommentForest object at 0xa917b56c>, False), ('But we are always sweaty here in south east asia. its fuckin 32 degrees C here. ', 1, <praw.models.comment_forest.CommentForest object at 0xa914ed8c>, False), (\"r u 4 real\\n\\nThey did that? That's so amateur man.\", 1, <praw.models.comment_forest.CommentForest object at 0xa914ec8c>, False), (\"I fixed this by making a Spotify playlist of like other  Adventure video games music and that helps a lot.  When you're running around in the open world and the Legend of Zelda theme comes on it's actually really neat and fitting \", 1, <praw.models.comment_forest.CommentForest object at 0xa914e8ac>, False), ('???\\n\\nSomeone butthurt over this shit??\\n\\nBtw, if we’re banning kb&m in CoD, then we should ban jump&shoot, quicksnipe and spawn camping?\\n\\nWhy are you crying about it? Kb&m will always be around and unless Activision actually get a server based game instead of p2p connection, I MIGHT reconsider, but no thanks ', 1, <praw.models.comment_forest.CommentForest object at 0xa914ebec>, True), ('They shouldn’t ban somebody for using a tool at their disposal, though they should make it to where they cannot use them anymore.', 1, <praw.models.comment_forest.CommentForest object at 0xa914e88c>, True), ('Like the red ring of death right? \\n\\nFun fact, Microsoft originally didn’t offer to fix or replace 360s that bricked. Don’t be a dick', 1, <praw.models.comment_forest.CommentForest object at 0xa914ecec>, False), ('Dumb question but can you still receive game invites and party chat if you change the messages and friend request to no one? ', 1, <praw.models.comment_forest.CommentForest object at 0xa91646ec>, True), (\"Yeah I don't get how this is still a problem every year after over 10 years of COD.\", 1, <praw.models.comment_forest.CommentForest object at 0xa916482c>, False), ('I like the building as an option, but I hate it as a necessity. Getting the drop on someone  \\nin a full sprint in the open only to have them spam out 8 structures and completely negate your ambush is just annoying. More often than not it just lets players rush in unprepared and have an easy way to delay the consequences of rushing in unprepared while negating the preparations of others.', 1, <praw.models.comment_forest.CommentForest object at 0xa9164b4c>, False)]\n",
      "**************************************************\n",
      "[('If u hold the home button it should be there too. ', 1, <praw.models.comment_forest.CommentForest object at 0xa915decc>, False), ('Oh yeah, the cup of noodles was so fucking stupid. I just did it the other day and was cringing the whole time.', 1, <praw.models.comment_forest.CommentForest object at 0xa917f90c>, False), ('I didn’t know that was a thing. I’ll check it out.', 1, <praw.models.comment_forest.CommentForest object at 0xa914ad8c>, False), ('any response', 1, <praw.models.comment_forest.CommentForest object at 0xa914a54c>, False), (\"So they're launching the game without multiplayer. And you're acting like that has fucking anything to do with server load testing. No. That's not how it works \", 1, <praw.models.comment_forest.CommentForest object at 0xa914aa6c>, False), ('> They are ALWAYS available the day before.\\n\\nWhich would be tomorrow since it says on Xbox.com Victor Vran and Hitman are available on the 16th. \\n\\nhttps://news.xbox.com/en-us/2018/09/26/games-with-gold-october-2018/', 1, <praw.models.comment_forest.CommentForest object at 0xa9131f6c>, False), ('So were the others.', 1, <praw.models.comment_forest.CommentForest object at 0xa913138c>, False), ('Hmm idk dude maybe you got lucky but I would keep an eye on it', 1, <praw.models.comment_forest.CommentForest object at 0xa9131fcc>, False), (\"Don't defend that shit. It has fucking nothing to do with their intentions to allow players to enjoy the single player campaign... That's bullshit.\", 1, <praw.models.comment_forest.CommentForest object at 0xa913166c>, False), ('Have you figured it out yet? Have the same problem right now.\\n\\nI also might ask: Are you vaping ecigs?', 1, <praw.models.comment_forest.CommentForest object at 0xa913184c>, True)]\n",
      "**************************************************\n",
      "[('Oh shiizx \\n', 1, <praw.models.comment_forest.CommentForest object at 0xa9152c2c>, False), (\"There is, but you have to google it. This sub doesn't condone piracy.\", 1, <praw.models.comment_forest.CommentForest object at 0xa914e66c>, True), (\"Yep, gonna end up picking up another Wii from a thrift store since they're so cheap. My Wii was hacked so I have all the saves on an external drive.\", 1, <praw.models.comment_forest.CommentForest object at 0xa914eb2c>, False), (\"Sounds like you've fried the motherboard of the Wii. Always check the voltage of both the thing you're plugging in and the brick you're using to see if they match\", 1, <praw.models.comment_forest.CommentForest object at 0xa914eb0c>, True), (\"The power supply in the system. I believe I've fried 2 ps2 slims by accident by using the wrong cords\", 2, <praw.models.comment_forest.CommentForest object at 0xa914e3ec>, False), (\"In the Wii? I have 2 official power adapters for the Wii that I've tested and none work.\", 2, <praw.models.comment_forest.CommentForest object at 0xa914e0cc>, False), ('You may have fried the power suply', 4, <praw.models.comment_forest.CommentForest object at 0xa914e74c>, True), (\"But it's not worth it if you're just playing Wii games or GameCube. A Wii U goes for around $130 at GameStop. A Wii can go for like $30. The Wii can be modded as well. Why would someone spend $100 more for a system that does the same thing? Not to mention having to buy a Wiimote separately when Wiis come with them.\", 1, <praw.models.comment_forest.CommentForest object at 0xa914e5ec>, False), ('I was simply stating my opinion, that a Wii U is more worth it than a Wii.', 1, <praw.models.comment_forest.CommentForest object at 0xa914e64c>, False), (\"Most people don't. A Wii can be bought for pennies. A Wii U cannot. $30 is way different than over $100.\", 1, <praw.models.comment_forest.CommentForest object at 0xa913fa0c>, False)]\n"
     ]
    }
   ],
   "source": [
    "print(comments_nintendo[0:10])\n",
    "print('*'* 50)\n",
    "\n",
    "print(comments_ps4[0:10])\n",
    "print('*'* 50)\n",
    "\n",
    "##print(comments_xbox360[0:10])\n",
    "##print('*'* 50)\n",
    "\n",
    "print(comments_xboxone[0:10])\n",
    "print('*'* 50)\n",
    "\n",
    "print(comments_wii[0:10])\n"
   ]
  },
  {
   "cell_type": "markdown",
   "metadata": {},
   "source": [
    "# Getting comments on submissions\n",
    "\n",
    "Getting comments on submissions is a little complicated. With users or entire subreddits, it's simple, because there is a one-to-many correspondence between user/subreddit and the comments it has. However, comments on a submission are organized in a *tree-like structure*; that is, the submission itself may have comments, and those comments may have comments on them, and so on. Because of this, we don't have helpful organizing functions like ``new`` or ``top``. We have to get them all and organize them ourselves. \n",
    "\n",
    "First, let's get the most recent submission of a subreddit and try to get the *top-level comments* on that submission. "
   ]
  },
  {
   "cell_type": "code",
   "execution_count": 7,
   "metadata": {},
   "outputs": [],
   "source": [
    "newssubreddit = r.subreddit(\"news\")\n",
    "\n",
    "submissions = []\n",
    "\n",
    "for submission in newssubreddit.top(limit=5, time_filter=\"week\"):\n",
    "    submissions.append(submission)\n",
    "    \n",
    "s = submissions[0] # Let's work with the first submission"
   ]
  },
  {
   "cell_type": "code",
   "execution_count": 8,
   "metadata": {},
   "outputs": [],
   "source": [
    "comments = []\n",
    "\n",
    "for top_level_comment in s.comments:\n",
    "    comments.append(top_level_comment)"
   ]
  },
  {
   "cell_type": "code",
   "execution_count": 9,
   "metadata": {
    "scrolled": true
   },
   "outputs": [
    {
     "data": {
      "text/plain": [
       "\"Teacher here. Just wanted to chime in and explain why these policies exist, as it was explained to me years ago:\\n\\nThe idea is that if a student can't receive lower than a 50 per marking period, there is never a point where it is impossible for them to pass for the year. Technically, they could not show up for three quarters, pull a 100 in the fourth, and still pass for the year. \\n\\nNow, an optimist would say this is a good thing, as it means the students will always have that opportunity to make a comeback. Particularly in low-income districts that lack parent engagement, the last thing you want is a kid realizing they can't possibly pass for the year and deciding to spend their day on the street instead of wasting it in school. I've seen firsthand students who really only kept coming to class because they still had that chance -- however small -- to pass for the year.\\n\\nThe more pessimistic view is what many have already pointed out in these comments: that it allows schools to keep pushing students through the system without actually teaching them anything, artificially inflating graduation rates and making admin look good. I've also seen this first hand, as well as the fallout when it was discovered by the school board.\\n\\nPersonally speaking, I'm not a fan of giving a student a 50 for doing nothing. I understand there are specific scenarios where a student misses a large amount of work due to crisis or injury, and that should not destroy all of their previous work. However, I think exceptions can be made for those scenarios without being codified as the mandatory grading policy. But, every school I've worked in has had some policy like this, so unfortunately it seems like it's becoming more common.\""
      ]
     },
     "execution_count": 9,
     "metadata": {},
     "output_type": "execute_result"
    }
   ],
   "source": [
    "# Text of the 11th comment\n",
    "comments[0].body"
   ]
  },
  {
   "cell_type": "markdown",
   "metadata": {},
   "source": [
    "Comments can have comments themselves. Here's how extract the children comments of the first comment on the original submission."
   ]
  },
  {
   "cell_type": "code",
   "execution_count": 10,
   "metadata": {},
   "outputs": [],
   "source": [
    "replies = []\n",
    "\n",
    "for reply in comments[0].replies:\n",
    "    replies.append(reply)"
   ]
  },
  {
   "cell_type": "code",
   "execution_count": 11,
   "metadata": {},
   "outputs": [
    {
     "data": {
      "text/plain": [
       "\"For extenuating circumstances and crises, a blank or N/A is sufficient and won't hurt or help a grade. You could always assign an extra credit assignment that takes a lot of effort or allow past work to be made up for half credit. Basically, you can still give students a chance, but they have to bust their ass for a bit and show that they want it. I see way too many students who have been pushed through the system bragging that they do no work and still pass.\""
      ]
     },
     "execution_count": 11,
     "metadata": {},
     "output_type": "execute_result"
    }
   ],
   "source": [
    "replies[0].body"
   ]
  },
  {
   "cell_type": "markdown",
   "metadata": {},
   "source": [
    "PRAW deals with Reddit rate limitations on comments by inserting \"MoreComments\" objects into the comment tree. For example, at the time of me writing this code, the fourth item in replies is a \"MoreComments\" object."
   ]
  },
  {
   "cell_type": "code",
   "execution_count": 12,
   "metadata": {},
   "outputs": [
    {
     "data": {
      "text/plain": [
       "[Comment(id='e6m8zqf'),\n",
       " Comment(id='e6mbi4r'),\n",
       " Comment(id='e6macx5'),\n",
       " Comment(id='e6mk93s'),\n",
       " <MoreComments count=132, children=['e6m9i4i', 'e6nnt3a', 'e6mn1my', '...']>]"
      ]
     },
     "execution_count": 12,
     "metadata": {},
     "output_type": "execute_result"
    }
   ],
   "source": [
    "replies"
   ]
  },
  {
   "cell_type": "markdown",
   "metadata": {},
   "source": [
    "We can open up a MoreComments object, but this necessitates sending another request to reddit."
   ]
  },
  {
   "cell_type": "code",
   "execution_count": 93,
   "metadata": {},
   "outputs": [],
   "source": [
    "mc = replies[-1]\n",
    "\n",
    "comments = []\n",
    "for c in mc.comments():\n",
    "    comments.append(c)"
   ]
  },
  {
   "cell_type": "code",
   "execution_count": 94,
   "metadata": {},
   "outputs": [
    {
     "data": {
      "text/plain": [
       "'Thank you for your work'"
      ]
     },
     "execution_count": 94,
     "metadata": {},
     "output_type": "execute_result"
    }
   ],
   "source": [
    "comments[0].body"
   ]
  },
  {
   "cell_type": "markdown",
   "metadata": {},
   "source": [
    "It's important to keep in mind if you work with reddit Comment Forests to calibrate your code to handle \"MoreComments\" objects gracefully. If you need help writing the code to do this, let me know."
   ]
  }
 ],
 "metadata": {
  "kernelspec": {
   "display_name": "Python 2",
   "language": "python",
   "name": "python2"
  },
  "language_info": {
   "codemirror_mode": {
    "name": "ipython",
    "version": 3
   },
   "file_extension": ".py",
   "mimetype": "text/x-python",
   "name": "python",
   "nbconvert_exporter": "python",
   "pygments_lexer": "ipython3",
   "version": "3.5.6"
  }
 },
 "nbformat": 4,
 "nbformat_minor": 1
}
